{
  "cells": [
    {
      "cell_type": "markdown",
      "metadata": {
        "id": "fVjjmowpZvCI"
      },
      "source": [
        "Imports\n"
      ]
    },
    {
      "cell_type": "code",
      "execution_count": 2,
      "metadata": {
        "colab": {
          "base_uri": "https://localhost:8080/"
        },
        "id": "AVgFFsk8ZqNK",
        "outputId": "b0f71fae-064e-4119-f582-76107efd4bb3"
      },
      "outputs": [
        {
          "ename": "SyntaxError",
          "evalue": "invalid hexadecimal literal (number.py, line 398)",
          "output_type": "error",
          "traceback": [
            "Traceback \u001b[0;36m(most recent call last)\u001b[0m:\n",
            "\u001b[0m  File \u001b[1;32m~/anaconda3/envs/tensorflow/lib/python3.11/site-packages/IPython/core/interactiveshell.py:3577\u001b[0m in \u001b[1;35mrun_code\u001b[0m\n    exec(code_obj, self.user_global_ns, self.user_ns)\u001b[0m\n",
            "\u001b[0m  Cell \u001b[1;32mIn[2], line 1\u001b[0m\n    import tensorflow as tf\u001b[0m\n",
            "\u001b[0m  File \u001b[1;32m~/anaconda3/envs/tensorflow/lib/python3.11/site-packages/tensorflow/__init__.py:48\u001b[0m\n    from tensorflow._api.v2 import __internal__\u001b[0m\n",
            "\u001b[0m  File \u001b[1;32m~/anaconda3/envs/tensorflow/lib/python3.11/site-packages/tensorflow/_api/v2/__internal__/__init__.py:11\u001b[0m\n    from tensorflow._api.v2.__internal__ import distribute\u001b[0m\n",
            "\u001b[0m  File \u001b[1;32m~/anaconda3/envs/tensorflow/lib/python3.11/site-packages/tensorflow/_api/v2/__internal__/distribute/__init__.py:8\u001b[0m\n    from tensorflow._api.v2.__internal__.distribute import combinations\u001b[0m\n",
            "\u001b[0m  File \u001b[1;32m~/anaconda3/envs/tensorflow/lib/python3.11/site-packages/tensorflow/_api/v2/__internal__/distribute/combinations/__init__.py:8\u001b[0m\n    from tensorflow.python.distribute.combinations import env # line: 456\u001b[0m\n",
            "\u001b[0m  File \u001b[1;32m~/anaconda3/envs/tensorflow/lib/python3.11/site-packages/tensorflow/python/distribute/combinations.py:33\u001b[0m\n    from tensorflow.python.distribute import collective_all_reduce_strategy\u001b[0m\n",
            "\u001b[0m  File \u001b[1;32m~/anaconda3/envs/tensorflow/lib/python3.11/site-packages/tensorflow/python/distribute/collective_all_reduce_strategy.py:32\u001b[0m\n    from tensorflow.python.distribute import mirrored_strategy\u001b[0m\n",
            "\u001b[0m  File \u001b[1;32m~/anaconda3/envs/tensorflow/lib/python3.11/site-packages/tensorflow/python/distribute/mirrored_strategy.py:34\u001b[0m\n    from tensorflow.python.distribute.cluster_resolver import tfconfig_cluster_resolver\u001b[0m\n",
            "\u001b[0m  File \u001b[1;32m~/anaconda3/envs/tensorflow/lib/python3.11/site-packages/tensorflow/python/distribute/cluster_resolver/__init__.py:27\u001b[0m\n    from tensorflow.python.distribute.cluster_resolver.gce_cluster_resolver import GCEClusterResolver\u001b[0m\n",
            "\u001b[0m  File \u001b[1;32m~/anaconda3/envs/tensorflow/lib/python3.11/site-packages/tensorflow/python/distribute/cluster_resolver/gce_cluster_resolver.py:24\u001b[0m\n    from googleapiclient import discovery  # pylint: disable=g-import-not-at-top\u001b[0m\n",
            "\u001b[0m  File \u001b[1;32m~/anaconda3/envs/tensorflow/lib/python3.11/site-packages/googleapiclient/discovery.py:64\u001b[0m\n    from googleapiclient import _auth, mimeparse\u001b[0m\n",
            "\u001b[0m  File \u001b[1;32m~/anaconda3/envs/tensorflow/lib/python3.11/site-packages/googleapiclient/_auth.py:34\u001b[0m\n    import oauth2client.client\u001b[0m\n",
            "\u001b[0m  File \u001b[1;32m~/anaconda3/envs/tensorflow/lib/python3.11/site-packages/oauth2client/client.py:47\u001b[0m\n    from oauth2client import crypt\u001b[0m\n",
            "\u001b[0m  File \u001b[1;32m~/anaconda3/envs/tensorflow/lib/python3.11/site-packages/oauth2client/crypt.py:55\u001b[0m\n    from oauth2client import _pycrypto_crypt\u001b[0m\n",
            "\u001b[0m  File \u001b[1;32m~/anaconda3/envs/tensorflow/lib/python3.11/site-packages/oauth2client/_pycrypto_crypt.py:17\u001b[0m\n    from Crypto.PublicKey import RSA\u001b[0m\n",
            "\u001b[0m  File \u001b[1;32m~/anaconda3/envs/tensorflow/lib/python3.11/site-packages/Crypto/PublicKey/__init__.py:29\u001b[0m\n    from Crypto.Util.asn1 import (DerSequence, DerInteger, DerBitString,\u001b[0m\n",
            "\u001b[0;36m  File \u001b[0;32m~/anaconda3/envs/tensorflow/lib/python3.11/site-packages/Crypto/Util/asn1.py:33\u001b[0;36m\n\u001b[0;31m    from Crypto.Util.number import long_to_bytes, bytes_to_long\u001b[0;36m\n",
            "\u001b[0;36m  File \u001b[0;32m~/anaconda3/envs/tensorflow/lib/python3.11/site-packages/Crypto/Util/number.py:398\u001b[0;36m\u001b[0m\n\u001b[0;31m    s = pack('>I', n & 0xffffffffL) + s\u001b[0m\n\u001b[0m                                ^\u001b[0m\n\u001b[0;31mSyntaxError\u001b[0m\u001b[0;31m:\u001b[0m invalid hexadecimal literal\n"
          ]
        }
      ],
      "source": [
        "import tensorflow as tf\n",
        "from tensorflow import keras\n",
        "from keras.callbacks import EarlyStopping, ReduceLROnPlateau\n",
        "\n",
        "import pandas as pd\n",
        "import numpy as np\n",
        "from sklearn.model_selection import train_test_split\n",
        "from sklearn.preprocessing import LabelEncoder, StandardScaler\n",
        "from sklearn.metrics import accuracy_score, confusion_matrix, classification_report\n",
        "import seaborn as sns\n",
        "import matplotlib.pyplot as plt"
      ]
    },
    {
      "cell_type": "code",
      "execution_count": 16,
      "metadata": {
        "colab": {
          "base_uri": "https://localhost:8080/",
          "height": 74
        },
        "id": "RPtxxvFPaCcr",
        "outputId": "d7795cd5-e66b-46c1-fd6d-d8fc45d42c34"
      },
      "outputs": [],
      "source": [
        "df = pd.read_csv('/Users/samir/Documents/GitHub/Google-Zero-Day-in-the-Wild-/0day _In the Wild_ - All.csv')"
      ]
    },
    {
      "cell_type": "code",
      "execution_count": 36,
      "metadata": {
        "colab": {
          "base_uri": "https://localhost:8080/",
          "height": 504
        },
        "id": "oL6qYUfiacGS",
        "outputId": "2a3979d5-c2a5-4c35-94d6-d6cf68e8080b"
      },
      "outputs": [
        {
          "data": {
            "text/html": [
              "<div>\n",
              "<style scoped>\n",
              "    .dataframe tbody tr th:only-of-type {\n",
              "        vertical-align: middle;\n",
              "    }\n",
              "\n",
              "    .dataframe tbody tr th {\n",
              "        vertical-align: top;\n",
              "    }\n",
              "\n",
              "    .dataframe thead th {\n",
              "        text-align: right;\n",
              "    }\n",
              "</style>\n",
              "<table border=\"1\" class=\"dataframe\">\n",
              "  <thead>\n",
              "    <tr style=\"text-align: right;\">\n",
              "      <th></th>\n",
              "      <th>CVE</th>\n",
              "      <th>Vendor</th>\n",
              "      <th>Product</th>\n",
              "      <th>Type</th>\n",
              "      <th>Description</th>\n",
              "      <th>Date Discovered</th>\n",
              "      <th>Date Patched</th>\n",
              "      <th>Advisory</th>\n",
              "      <th>Analysis URL</th>\n",
              "      <th>Root Cause Analysis</th>\n",
              "      <th>Reported By</th>\n",
              "    </tr>\n",
              "  </thead>\n",
              "  <tbody>\n",
              "    <tr>\n",
              "      <th>0</th>\n",
              "      <td>311</td>\n",
              "      <td>3</td>\n",
              "      <td>39</td>\n",
              "      <td>3</td>\n",
              "      <td>10</td>\n",
              "      <td>NaN</td>\n",
              "      <td>1970-01-01 00:00:00.000000198</td>\n",
              "      <td>207</td>\n",
              "      <td>NaN</td>\n",
              "      <td>NaN</td>\n",
              "      <td>NaN</td>\n",
              "    </tr>\n",
              "    <tr>\n",
              "      <th>1</th>\n",
              "      <td>310</td>\n",
              "      <td>3</td>\n",
              "      <td>39</td>\n",
              "      <td>3</td>\n",
              "      <td>115</td>\n",
              "      <td>NaN</td>\n",
              "      <td>1970-01-01 00:00:00.000000197</td>\n",
              "      <td>207</td>\n",
              "      <td>NaN</td>\n",
              "      <td>NaN</td>\n",
              "      <td>NaN</td>\n",
              "    </tr>\n",
              "    <tr>\n",
              "      <th>2</th>\n",
              "      <td>309</td>\n",
              "      <td>3</td>\n",
              "      <td>28</td>\n",
              "      <td>3</td>\n",
              "      <td>156</td>\n",
              "      <td>NaN</td>\n",
              "      <td>1970-01-01 00:00:00.000000196</td>\n",
              "      <td>239</td>\n",
              "      <td>NaN</td>\n",
              "      <td>NaN</td>\n",
              "      <td>NaN</td>\n",
              "    </tr>\n",
              "    <tr>\n",
              "      <th>3</th>\n",
              "      <td>308</td>\n",
              "      <td>12</td>\n",
              "      <td>5</td>\n",
              "      <td>3</td>\n",
              "      <td>114</td>\n",
              "      <td>2024-01-11</td>\n",
              "      <td>1970-01-01 00:00:00.000000195</td>\n",
              "      <td>40</td>\n",
              "      <td>NaN</td>\n",
              "      <td>NaN</td>\n",
              "      <td>NaN</td>\n",
              "    </tr>\n",
              "    <tr>\n",
              "      <th>4</th>\n",
              "      <td>307</td>\n",
              "      <td>12</td>\n",
              "      <td>5</td>\n",
              "      <td>3</td>\n",
              "      <td>55</td>\n",
              "      <td>2023-12-19</td>\n",
              "      <td>1970-01-01 00:00:00.000000194</td>\n",
              "      <td>39</td>\n",
              "      <td>NaN</td>\n",
              "      <td>NaN</td>\n",
              "      <td>Clément Lecigne and Vlad Stolyarov of Google's...</td>\n",
              "    </tr>\n",
              "  </tbody>\n",
              "</table>\n",
              "</div>"
            ],
            "text/plain": [
              "   CVE  Vendor  Product  Type  Description Date Discovered  \\\n",
              "0  311       3       39     3           10             NaN   \n",
              "1  310       3       39     3          115             NaN   \n",
              "2  309       3       28     3          156             NaN   \n",
              "3  308      12        5     3          114      2024-01-11   \n",
              "4  307      12        5     3           55      2023-12-19   \n",
              "\n",
              "                   Date Patched  Advisory Analysis URL Root Cause Analysis  \\\n",
              "0 1970-01-01 00:00:00.000000198       207          NaN                 NaN   \n",
              "1 1970-01-01 00:00:00.000000197       207          NaN                 NaN   \n",
              "2 1970-01-01 00:00:00.000000196       239          NaN                 NaN   \n",
              "3 1970-01-01 00:00:00.000000195        40          NaN                 NaN   \n",
              "4 1970-01-01 00:00:00.000000194        39          NaN                 NaN   \n",
              "\n",
              "                                         Reported By  \n",
              "0                                                NaN  \n",
              "1                                                NaN  \n",
              "2                                                NaN  \n",
              "3                                                NaN  \n",
              "4  Clément Lecigne and Vlad Stolyarov of Google's...  "
            ]
          },
          "execution_count": 36,
          "metadata": {},
          "output_type": "execute_result"
        }
      ],
      "source": [
        "df.head()"
      ]
    },
    {
      "cell_type": "markdown",
      "metadata": {},
      "source": [
        "Top 5 most Zero-Day according to Companies."
      ]
    },
    {
      "cell_type": "code",
      "execution_count": 31,
      "metadata": {},
      "outputs": [],
      "source": [
        "df['Date Patched'] = pd.to_datetime(df['Date Patched'])"
      ]
    },
    {
      "cell_type": "code",
      "execution_count": 34,
      "metadata": {},
      "outputs": [
        {
          "data": {
            "text/plain": [
              "(312, 11)"
            ]
          },
          "execution_count": 34,
          "metadata": {},
          "output_type": "execute_result"
        }
      ],
      "source": [
        "df.isna().sum()\n",
        "df.dropna(axis=1)\n",
        "df.shape"
      ]
    },
    {
      "cell_type": "code",
      "execution_count": 35,
      "metadata": {
        "colab": {
          "base_uri": "https://localhost:8080/",
          "height": 474
        },
        "id": "T42KxW9Xavbl",
        "outputId": "ed6c8031-e893-4a2d-c8db-127894c3f2c9"
      },
      "outputs": [
        {
          "data": {
            "image/png": "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",
            "text/plain": [
              "<Figure size 1200x600 with 1 Axes>"
            ]
          },
          "metadata": {},
          "output_type": "display_data"
        }
      ],
      "source": [
        "\n",
        "values = df['Type'].value_counts()\n",
        "plt.figure(figsize=(12, 6))\n",
        "plt.bar(values[:5].index, values[:5])\n",
        "plt.xlabel('Type', loc='center')\n",
        "plt.ylabel('Number of Exploits')\n",
        "plt.xticks(rotation=90)\n",
        "plt.title('Top 5 Zero-Day Exploit Types')\n",
        "plt.show()"
      ]
    },
    {
      "cell_type": "markdown",
      "metadata": {
        "id": "j8b-h8avZWZU"
      },
      "source": [
        "The types of Zero-Day Exploitation."
      ]
    },
    {
      "cell_type": "code",
      "execution_count": 26,
      "metadata": {
        "colab": {
          "base_uri": "https://localhost:8080/"
        },
        "id": "_Ic7Y0Xnj-ba",
        "outputId": "a58bc432-5439-43e9-a195-19c69d4a1c27"
      },
      "outputs": [
        {
          "data": {
            "text/plain": [
              "Type\n",
              "Memory Corruption    220\n",
              "Logic/Design Flaw     63\n",
              "Information Leak      11\n",
              "Use-after-free         6\n",
              "XSS                    2\n",
              "UXSS                   2\n",
              "Info disclosure        1\n",
              "Unspecified            1\n",
              "Type Confusion         1\n",
              "Race Condition         1\n",
              "Name: count, dtype: int64"
            ]
          },
          "execution_count": 26,
          "metadata": {},
          "output_type": "execute_result"
        }
      ],
      "source": [
        "df['Type'].value_counts()\n"
      ]
    },
    {
      "cell_type": "markdown",
      "metadata": {
        "id": "IxCHF2dsji5Y"
      },
      "source": [
        "Classification based on the Exploitation type.\n"
      ]
    },
    {
      "cell_type": "code",
      "execution_count": 27,
      "metadata": {
        "id": "ygSVtEZYQpae"
      },
      "outputs": [],
      "source": [
        "le = LabelEncoder()\n",
        "for column in ['CVE', 'Type', 'Vendor', 'Product', 'Description', 'Date Patched', 'Advisory']:\n",
        "    df[column] = le.fit_transform(df[column])\n"
      ]
    },
    {
      "cell_type": "code",
      "execution_count": 8,
      "metadata": {
        "colab": {
          "base_uri": "https://localhost:8080/"
        },
        "id": "9wsmW_6SuLdy",
        "outputId": "d7a19030-b86d-4441-eadc-dd8429139f55"
      },
      "outputs": [
        {
          "name": "stderr",
          "output_type": "stream",
          "text": [
            "<ipython-input-8-381656fd920c>:6: SettingWithCopyWarning: \n",
            "A value is trying to be set on a copy of a slice from a DataFrame.\n",
            "Try using .loc[row_indexer,col_indexer] = value instead\n",
            "\n",
            "See the caveats in the documentation: https://pandas.pydata.org/pandas-docs/stable/user_guide/indexing.html#returning-a-view-versus-a-copy\n",
            "  X[column] = le.fit_transform(X[column])\n",
            "<ipython-input-8-381656fd920c>:6: SettingWithCopyWarning: \n",
            "A value is trying to be set on a copy of a slice from a DataFrame.\n",
            "Try using .loc[row_indexer,col_indexer] = value instead\n",
            "\n",
            "See the caveats in the documentation: https://pandas.pydata.org/pandas-docs/stable/user_guide/indexing.html#returning-a-view-versus-a-copy\n",
            "  X[column] = le.fit_transform(X[column])\n",
            "<ipython-input-8-381656fd920c>:6: SettingWithCopyWarning: \n",
            "A value is trying to be set on a copy of a slice from a DataFrame.\n",
            "Try using .loc[row_indexer,col_indexer] = value instead\n",
            "\n",
            "See the caveats in the documentation: https://pandas.pydata.org/pandas-docs/stable/user_guide/indexing.html#returning-a-view-versus-a-copy\n",
            "  X[column] = le.fit_transform(X[column])\n"
          ]
        }
      ],
      "source": [
        "X = df[['CVE', 'Vendor', 'Product', 'Description', 'Date Discovered',\n",
        "       'Date Patched', 'Advisory', 'Analysis URL', 'Root Cause Analysis']]\n",
        "y = df['Type']\n",
        "\n",
        "for column in ['Date Discovered','Analysis URL', 'Root Cause Analysis']:\n",
        "  X[column] = le.fit_transform(X[column])\n",
        "\n",
        "scaler = StandardScaler()\n",
        "X = scaler.fit_transform(X)\n"
      ]
    },
    {
      "cell_type": "code",
      "execution_count": 9,
      "metadata": {
        "colab": {
          "base_uri": "https://localhost:8080/"
        },
        "id": "qZZzAV8KvVlj",
        "outputId": "83758d1b-ad6b-43ae-84e2-11677d6ec6aa"
      },
      "outputs": [
        {
          "data": {
            "text/plain": [
              "0      3\n",
              "1      3\n",
              "2      3\n",
              "3      3\n",
              "4      3\n",
              "      ..\n",
              "307    3\n",
              "308    3\n",
              "309    3\n",
              "310    2\n",
              "311    2\n",
              "Name: Type, Length: 312, dtype: int64"
            ]
          },
          "execution_count": 9,
          "metadata": {},
          "output_type": "execute_result"
        }
      ],
      "source": [
        "X_train, X_test, y_train, y_test = train_test_split(X, y, test_size=0.2, random_state=7)\n",
        "df['Type']"
      ]
    },
    {
      "cell_type": "code",
      "execution_count": null,
      "metadata": {
        "id": "1BYH-a1OigOU"
      },
      "outputs": [],
      "source": [
        "from google.colab import drive\n",
        "drive.mount('/content/drive')"
      ]
    },
    {
      "cell_type": "markdown",
      "metadata": {
        "id": "F9YK3cGlx-zF"
      },
      "source": [
        "Building the Model"
      ]
    },
    {
      "cell_type": "code",
      "execution_count": 10,
      "metadata": {
        "id": "iQXMK0Aj_94L"
      },
      "outputs": [],
      "source": [
        "model = keras.Sequential([\n",
        "    keras.layers.Dense(128, activation='relu', input_shape=(X_train.shape[1],)),\n",
        "    keras.layers.Dropout(0.3),\n",
        "    keras.layers.Dense(64, activation='relu'),\n",
        "    keras.layers.Dropout(0.3),\n",
        "    keras.layers.Dense(32, activation='relu'),\n",
        "    keras.layers.Dropout(0.3),\n",
        "    keras.layers.Dense(len(y.unique()), activation='softmax')\n",
        "])"
      ]
    },
    {
      "cell_type": "markdown",
      "metadata": {
        "id": "-nNNiRosZ4um"
      },
      "source": [
        "Compiling the Model."
      ]
    },
    {
      "cell_type": "code",
      "execution_count": 11,
      "metadata": {
        "id": "l9xXF3kkxsHZ"
      },
      "outputs": [],
      "source": [
        "model.compile(optimizer='adam',\n",
        "              loss='sparse_categorical_crossentropy',\n",
        "              metrics=['accuracy'])"
      ]
    },
    {
      "cell_type": "code",
      "execution_count": 12,
      "metadata": {
        "id": "PAXpISNckWQl"
      },
      "outputs": [],
      "source": [
        "early_stopping = EarlyStopping(monitor='val_loss', patience=10, restore_best_weights=True)\n",
        "reduce_lr = ReduceLROnPlateau(monitor='val_loss', factor=0.2, patience=5, min_lr=0.001)\n"
      ]
    },
    {
      "cell_type": "markdown",
      "metadata": {
        "id": "pfTMdHYRyd8f"
      },
      "source": [
        "Training the model"
      ]
    },
    {
      "cell_type": "code",
      "execution_count": 15,
      "metadata": {
        "colab": {
          "base_uri": "https://localhost:8080/"
        },
        "id": "_SeDQm3ZyboQ",
        "outputId": "58d6ed60-7eb6-4de0-db64-241a6c42661f"
      },
      "outputs": [
        {
          "name": "stdout",
          "output_type": "stream",
          "text": [
            "Epoch 1/15\n",
            "7/7 [==============================] - 0s 67ms/step - loss: 0.7744 - accuracy: 0.7286 - val_loss: 0.9936 - val_accuracy: 0.7400\n",
            "Epoch 2/15\n",
            "7/7 [==============================] - 0s 34ms/step - loss: 0.7431 - accuracy: 0.7487 - val_loss: 0.9986 - val_accuracy: 0.7200\n",
            "Epoch 3/15\n",
            "7/7 [==============================] - 0s 17ms/step - loss: 0.7982 - accuracy: 0.7236 - val_loss: 1.0017 - val_accuracy: 0.7000\n",
            "Epoch 4/15\n",
            "7/7 [==============================] - 0s 25ms/step - loss: 0.7759 - accuracy: 0.7286 - val_loss: 0.9971 - val_accuracy: 0.7400\n",
            "Epoch 5/15\n",
            "7/7 [==============================] - 0s 27ms/step - loss: 0.7833 - accuracy: 0.7085 - val_loss: 1.0012 - val_accuracy: 0.7400\n",
            "Epoch 6/15\n",
            "7/7 [==============================] - 0s 32ms/step - loss: 0.7417 - accuracy: 0.7085 - val_loss: 1.0062 - val_accuracy: 0.7400\n",
            "Epoch 7/15\n",
            "7/7 [==============================] - 0s 34ms/step - loss: 0.7627 - accuracy: 0.7236 - val_loss: 1.0103 - val_accuracy: 0.7400\n",
            "Epoch 8/15\n",
            "7/7 [==============================] - 0s 31ms/step - loss: 0.7344 - accuracy: 0.7236 - val_loss: 1.0089 - val_accuracy: 0.7400\n",
            "Epoch 9/15\n",
            "7/7 [==============================] - 0s 36ms/step - loss: 0.7537 - accuracy: 0.7286 - val_loss: 1.0137 - val_accuracy: 0.7400\n",
            "Epoch 10/15\n",
            "7/7 [==============================] - 0s 33ms/step - loss: 0.7080 - accuracy: 0.7538 - val_loss: 1.0176 - val_accuracy: 0.7200\n",
            "Epoch 11/15\n",
            "7/7 [==============================] - 0s 39ms/step - loss: 0.7115 - accuracy: 0.7286 - val_loss: 1.0245 - val_accuracy: 0.7200\n",
            "Epoch 12/15\n",
            "7/7 [==============================] - 0s 55ms/step - loss: 0.7518 - accuracy: 0.7437 - val_loss: 1.0233 - val_accuracy: 0.7000\n",
            "Epoch 13/15\n",
            "7/7 [==============================] - 0s 26ms/step - loss: 0.7332 - accuracy: 0.7136 - val_loss: 1.0208 - val_accuracy: 0.7000\n",
            "Epoch 14/15\n",
            "7/7 [==============================] - 0s 16ms/step - loss: 0.7365 - accuracy: 0.7387 - val_loss: 1.0218 - val_accuracy: 0.7000\n",
            "Epoch 15/15\n",
            "7/7 [==============================] - 0s 15ms/step - loss: 0.7015 - accuracy: 0.7286 - val_loss: 1.0189 - val_accuracy: 0.7000\n",
            "2/2 [==============================] - 0s 13ms/step - loss: 0.9040 - accuracy: 0.7302\n",
            "Test Accuracy: 0.7301587462425232\n"
          ]
        }
      ],
      "source": [
        "model.fit(X_train, y_train, epochs=15, batch_size=32, validation_split=0.2)\n",
        "loss, accuracy = model.evaluate(X_test, y_test)\n",
        "print(f'Test Accuracy: {accuracy}')"
      ]
    },
    {
      "cell_type": "markdown",
      "metadata": {
        "id": "prRATojgn6oQ"
      },
      "source": [
        "Making predictions"
      ]
    },
    {
      "cell_type": "code",
      "execution_count": 21,
      "metadata": {
        "colab": {
          "base_uri": "https://localhost:8080/"
        },
        "id": "Qe0X3sXcWZJM",
        "outputId": "46387be3-cb35-489d-aa01-dd322b0fe253"
      },
      "outputs": [
        {
          "name": "stdout",
          "output_type": "stream",
          "text": [
            "2/2 [==============================] - 0s 5ms/step\n"
          ]
        },
        {
          "data": {
            "text/plain": [
              "<tf.Tensor: shape=(63,), dtype=int64, numpy=\n",
              "array([3, 3, 3, 3, 3, 3, 3, 3, 3, 3, 3, 2, 3, 3, 3, 3, 2, 3, 3, 3, 3, 3,\n",
              "       2, 3, 3, 3, 3, 3, 3, 3, 3, 2, 2, 3, 3, 2, 3, 3, 3, 3, 2, 3, 3, 3,\n",
              "       2, 3, 3, 3, 3, 3, 3, 3, 3, 2, 3, 3, 3, 3, 3, 3, 3, 3, 3])>"
            ]
          },
          "execution_count": 21,
          "metadata": {},
          "output_type": "execute_result"
        }
      ],
      "source": [
        "predictions = model.predict(X_test)\n",
        "predicted_classes = tf.argmax(predictions, axis=1)\n",
        "\n",
        "predicted_classes"
      ]
    },
    {
      "cell_type": "markdown",
      "metadata": {
        "id": "dMLTw2wMhqSC"
      },
      "source": [
        "Confusion Matrix"
      ]
    },
    {
      "cell_type": "code",
      "execution_count": 22,
      "metadata": {
        "colab": {
          "base_uri": "https://localhost:8080/"
        },
        "id": "lGqSiaIKhorZ",
        "outputId": "6bee27ff-1ee8-475f-a7e5-f7dc60ed22a8"
      },
      "outputs": [
        {
          "name": "stdout",
          "output_type": "stream",
          "text": [
            "Confusion Matrix:\n",
            "[[ 0  0  3  0  0  0]\n",
            " [ 0  6  8  0  0  0]\n",
            " [ 0  2 40  0  0  0]\n",
            " [ 0  0  1  0  0  0]\n",
            " [ 0  0  2  0  0  0]\n",
            " [ 0  1  0  0  0  0]]\n"
          ]
        }
      ],
      "source": [
        "conf_matrix = confusion_matrix(y_test, predicted_classes)\n",
        "print(f'Confusion Matrix:\\n{conf_matrix}')\n"
      ]
    },
    {
      "cell_type": "code",
      "execution_count": 23,
      "metadata": {
        "colab": {
          "base_uri": "https://localhost:8080/"
        },
        "id": "WB17onDuotsK",
        "outputId": "3f324a04-3ea4-4606-ccb2-a982aa502210"
      },
      "outputs": [
        {
          "name": "stdout",
          "output_type": "stream",
          "text": [
            "Accuracy: 0.7301587301587301\n",
            "Classification Report:\n",
            "              precision    recall  f1-score   support\n",
            "\n",
            "           1       0.00      0.00      0.00         3\n",
            "           2       0.67      0.43      0.52        14\n",
            "           3       0.74      0.95      0.83        42\n",
            "           5       0.00      0.00      0.00         1\n",
            "           9       0.00      0.00      0.00         2\n",
            "          10       0.00      0.00      0.00         1\n",
            "\n",
            "    accuracy                           0.73        63\n",
            "   macro avg       0.23      0.23      0.23        63\n",
            "weighted avg       0.64      0.73      0.67        63\n",
            "\n"
          ]
        },
        {
          "name": "stderr",
          "output_type": "stream",
          "text": [
            "/usr/local/lib/python3.10/dist-packages/sklearn/metrics/_classification.py:1344: UndefinedMetricWarning: Precision and F-score are ill-defined and being set to 0.0 in labels with no predicted samples. Use `zero_division` parameter to control this behavior.\n",
            "  _warn_prf(average, modifier, msg_start, len(result))\n",
            "/usr/local/lib/python3.10/dist-packages/sklearn/metrics/_classification.py:1344: UndefinedMetricWarning: Precision and F-score are ill-defined and being set to 0.0 in labels with no predicted samples. Use `zero_division` parameter to control this behavior.\n",
            "  _warn_prf(average, modifier, msg_start, len(result))\n",
            "/usr/local/lib/python3.10/dist-packages/sklearn/metrics/_classification.py:1344: UndefinedMetricWarning: Precision and F-score are ill-defined and being set to 0.0 in labels with no predicted samples. Use `zero_division` parameter to control this behavior.\n",
            "  _warn_prf(average, modifier, msg_start, len(result))\n"
          ]
        }
      ],
      "source": [
        "accuracy = accuracy_score(y_test, predicted_classes)\n",
        "print(f'Accuracy: {accuracy}')\n",
        "\n",
        "# Classification Report\n",
        "class_report = classification_report(y_test, predicted_classes)\n",
        "print(f'Classification Report:\\n{class_report}')"
      ]
    },
    {
      "cell_type": "markdown",
      "metadata": {
        "id": "zAxl2mwIiEfr"
      },
      "source": [
        "Plotting the Confusion Matrix"
      ]
    },
    {
      "cell_type": "code",
      "execution_count": 24,
      "metadata": {
        "colab": {
          "base_uri": "https://localhost:8080/",
          "height": 596
        },
        "id": "39oI9qhbhlUF",
        "outputId": "d9d01d48-f876-464c-c4aa-7e282a081839"
      },
      "outputs": [
        {
          "data": {
            "image/png": "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