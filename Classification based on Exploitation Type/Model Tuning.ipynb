{
  "cells": [
    {
      "cell_type": "markdown",
      "metadata": {
        "id": "fVjjmowpZvCI"
      },
      "source": [
        "Imports\n"
      ]
    },
    {
      "cell_type": "code",
      "execution_count": 2,
      "metadata": {
        "colab": {
          "base_uri": "https://localhost:8080/"
        },
        "id": "AVgFFsk8ZqNK",
        "outputId": "b0f71fae-064e-4119-f582-76107efd4bb3"
      },
      "outputs": [],
      "source": [
        "import tensorflow as tf\n",
        "from tensorflow import keras\n",
        "from keras.callbacks import EarlyStopping, ReduceLROnPlateau\n",
        "\n",
        "import pandas as pd\n",
        "import numpy as np\n",
        "from sklearn.model_selection import train_test_split\n",
        "from sklearn.preprocessing import LabelEncoder, StandardScaler\n",
        "from sklearn.metrics import accuracy_score, confusion_matrix, classification_report\n",
        "import seaborn as sns\n",
        "import matplotlib.pyplot as plt"
      ]
    },
    {
      "cell_type": "code",
      "execution_count": 3,
      "metadata": {
        "colab": {
          "base_uri": "https://localhost:8080/",
          "height": 74
        },
        "id": "RPtxxvFPaCcr",
        "outputId": "d7795cd5-e66b-46c1-fd6d-d8fc45d42c34"
      },
      "outputs": [],
      "source": [
        "df = pd.read_csv('/Users/samir/Documents/GitHub/Google-Zero-Day-in-the-Wild-/0day _In the Wild_ - All.csv')"
      ]
    },
    {
      "cell_type": "code",
      "execution_count": 4,
      "metadata": {
        "colab": {
          "base_uri": "https://localhost:8080/",
          "height": 504
        },
        "id": "oL6qYUfiacGS",
        "outputId": "2a3979d5-c2a5-4c35-94d6-d6cf68e8080b"
      },
      "outputs": [
        {
          "data": {
            "text/html": [
              "<div>\n",
              "<style scoped>\n",
              "    .dataframe tbody tr th:only-of-type {\n",
              "        vertical-align: middle;\n",
              "    }\n",
              "\n",
              "    .dataframe tbody tr th {\n",
              "        vertical-align: top;\n",
              "    }\n",
              "\n",
              "    .dataframe thead th {\n",
              "        text-align: right;\n",
              "    }\n",
              "</style>\n",
              "<table border=\"1\" class=\"dataframe\">\n",
              "  <thead>\n",
              "    <tr style=\"text-align: right;\">\n",
              "      <th></th>\n",
              "      <th>CVE</th>\n",
              "      <th>Vendor</th>\n",
              "      <th>Product</th>\n",
              "      <th>Type</th>\n",
              "      <th>Description</th>\n",
              "      <th>Date Discovered</th>\n",
              "      <th>Date Patched</th>\n",
              "      <th>Advisory</th>\n",
              "      <th>Analysis URL</th>\n",
              "      <th>Root Cause Analysis</th>\n",
              "      <th>Reported By</th>\n",
              "    </tr>\n",
              "  </thead>\n",
              "  <tbody>\n",
              "    <tr>\n",
              "      <th>0</th>\n",
              "      <td>CVE-2024-23296</td>\n",
              "      <td>Apple</td>\n",
              "      <td>iOS</td>\n",
              "      <td>Memory Corruption</td>\n",
              "      <td>Arbitrary kernel r/w in RTKit</td>\n",
              "      <td>NaN</td>\n",
              "      <td>2024-03-06</td>\n",
              "      <td>https://support.apple.com/en-gb/HT214081</td>\n",
              "      <td>NaN</td>\n",
              "      <td>NaN</td>\n",
              "      <td>NaN</td>\n",
              "    </tr>\n",
              "    <tr>\n",
              "      <th>1</th>\n",
              "      <td>CVE-2024-23225</td>\n",
              "      <td>Apple</td>\n",
              "      <td>iOS</td>\n",
              "      <td>Memory Corruption</td>\n",
              "      <td>Out-of-bounds memory access in Kernel</td>\n",
              "      <td>NaN</td>\n",
              "      <td>2024-03-05</td>\n",
              "      <td>https://support.apple.com/en-gb/HT214081</td>\n",
              "      <td>NaN</td>\n",
              "      <td>NaN</td>\n",
              "      <td>NaN</td>\n",
              "    </tr>\n",
              "    <tr>\n",
              "      <th>2</th>\n",
              "      <td>CVE-2024-23222</td>\n",
              "      <td>Apple</td>\n",
              "      <td>WebKit</td>\n",
              "      <td>Memory Corruption</td>\n",
              "      <td>Type confusion</td>\n",
              "      <td>NaN</td>\n",
              "      <td>2024-01-22</td>\n",
              "      <td>https://support.apple.com/en-us/HT214059</td>\n",
              "      <td>NaN</td>\n",
              "      <td>NaN</td>\n",
              "      <td>NaN</td>\n",
              "    </tr>\n",
              "    <tr>\n",
              "      <th>3</th>\n",
              "      <td>CVE-2024-0519</td>\n",
              "      <td>Google</td>\n",
              "      <td>Chrome</td>\n",
              "      <td>Memory Corruption</td>\n",
              "      <td>Out-of-bounds memory access</td>\n",
              "      <td>2024-01-11</td>\n",
              "      <td>2024-01-16</td>\n",
              "      <td>https://chromereleases.googleblog.com/2024/01/...</td>\n",
              "      <td>NaN</td>\n",
              "      <td>NaN</td>\n",
              "      <td>NaN</td>\n",
              "    </tr>\n",
              "    <tr>\n",
              "      <th>4</th>\n",
              "      <td>CVE-2023-7024</td>\n",
              "      <td>Google</td>\n",
              "      <td>Chrome</td>\n",
              "      <td>Memory Corruption</td>\n",
              "      <td>Heap overflow in WebRTC</td>\n",
              "      <td>2023-12-19</td>\n",
              "      <td>2023-12-20</td>\n",
              "      <td>https://chromereleases.googleblog.com/2023/12/...</td>\n",
              "      <td>NaN</td>\n",
              "      <td>NaN</td>\n",
              "      <td>Clément Lecigne and Vlad Stolyarov of Google's...</td>\n",
              "    </tr>\n",
              "  </tbody>\n",
              "</table>\n",
              "</div>"
            ],
            "text/plain": [
              "              CVE  Vendor Product               Type  \\\n",
              "0  CVE-2024-23296   Apple     iOS  Memory Corruption   \n",
              "1  CVE-2024-23225   Apple     iOS  Memory Corruption   \n",
              "2  CVE-2024-23222   Apple  WebKit  Memory Corruption   \n",
              "3   CVE-2024-0519  Google  Chrome  Memory Corruption   \n",
              "4   CVE-2023-7024  Google  Chrome  Memory Corruption   \n",
              "\n",
              "                             Description Date Discovered Date Patched  \\\n",
              "0          Arbitrary kernel r/w in RTKit             NaN   2024-03-06   \n",
              "1  Out-of-bounds memory access in Kernel             NaN   2024-03-05   \n",
              "2                         Type confusion             NaN   2024-01-22   \n",
              "3            Out-of-bounds memory access      2024-01-11   2024-01-16   \n",
              "4                Heap overflow in WebRTC      2023-12-19   2023-12-20   \n",
              "\n",
              "                                            Advisory Analysis URL  \\\n",
              "0           https://support.apple.com/en-gb/HT214081          NaN   \n",
              "1           https://support.apple.com/en-gb/HT214081          NaN   \n",
              "2           https://support.apple.com/en-us/HT214059          NaN   \n",
              "3  https://chromereleases.googleblog.com/2024/01/...          NaN   \n",
              "4  https://chromereleases.googleblog.com/2023/12/...          NaN   \n",
              "\n",
              "  Root Cause Analysis                                        Reported By  \n",
              "0                 NaN                                                NaN  \n",
              "1                 NaN                                                NaN  \n",
              "2                 NaN                                                NaN  \n",
              "3                 NaN                                                NaN  \n",
              "4                 NaN  Clément Lecigne and Vlad Stolyarov of Google's...  "
            ]
          },
          "execution_count": 4,
          "metadata": {},
          "output_type": "execute_result"
        }
      ],
      "source": [
        "df.head()"
      ]
    },
    {
      "cell_type": "markdown",
      "metadata": {},
      "source": [
        "Top 5 most Zero-Day according to Companies."
      ]
    },
    {
      "cell_type": "code",
      "execution_count": 5,
      "metadata": {},
      "outputs": [],
      "source": [
        "df['Date Patched'] = pd.to_datetime(df['Date Patched'])"
      ]
    },
    {
      "cell_type": "code",
      "execution_count": 6,
      "metadata": {},
      "outputs": [
        {
          "data": {
            "text/plain": [
              "(312, 11)"
            ]
          },
          "execution_count": 6,
          "metadata": {},
          "output_type": "execute_result"
        }
      ],
      "source": [
        "df.isna().sum()\n",
        "df.dropna(axis=1)\n",
        "df.shape"
      ]
    },
    {
      "cell_type": "code",
      "execution_count": 7,
      "metadata": {
        "colab": {
          "base_uri": "https://localhost:8080/",
          "height": 474
        },
        "id": "T42KxW9Xavbl",
        "outputId": "ed6c8031-e893-4a2d-c8db-127894c3f2c9"
      },
      "outputs": [
        {
          "data": {
            "image/png": "[encoded data removed]",
            "text/plain": [
              "<Figure size 1200x600 with 1 Axes>"
            ]
          },
          "metadata": {},
          "output_type": "display_data"
        }
      ],
      "source": [
        "\n",
        "values = df['Type'].value_counts()\n",
        "plt.figure(figsize=(12, 6))\n",
        "plt.bar(values[:5].index, values[:5])\n",
        "plt.xlabel('Type', loc='center')\n",
        "plt.ylabel('Number of Exploits')\n",
        "plt.xticks(rotation=90)\n",
        "plt.title('Top 5 Zero-Day Exploit Types')\n",
        "plt.show()"
      ]
    },
    {
      "cell_type": "markdown",
      "metadata": {
        "id": "j8b-h8avZWZU"
      },
      "source": [
        "The types of Zero-Day Exploitation."
      ]
    },
    {
      "cell_type": "code",
      "execution_count": 8,
      "metadata": {
        "colab": {
          "base_uri": "https://localhost:8080/"
        },
        "id": "_Ic7Y0Xnj-ba",
        "outputId": "a58bc432-5439-43e9-a195-19c69d4a1c27"
      },
      "outputs": [
        {
          "data": {
            "text/plain": [
              "Type\n",
              "Memory Corruption    220\n",
              "Logic/Design Flaw     63\n",
              "Information Leak      11\n",
              "Use-after-free         6\n",
              "XSS                    2\n",
              "UXSS                   2\n",
              "Info disclosure        1\n",
              "Unspecified            1\n",
              "Type Confusion         1\n",
              "Race Condition         1\n",
              "Name: count, dtype: int64"
            ]
          },
          "execution_count": 8,
          "metadata": {},
          "output_type": "execute_result"
        }
      ],
      "source": [
        "df['Type'].value_counts()\n"
      ]
    },
    {
      "cell_type": "markdown",
      "metadata": {
        "id": "IxCHF2dsji5Y"
      },
      "source": [
        "Classification based on the Exploitation type.\n"
      ]
    },
    {
      "cell_type": "code",
      "execution_count": 9,
      "metadata": {
        "id": "ygSVtEZYQpae"
      },
      "outputs": [],
      "source": [
        "le = LabelEncoder()\n",
        "for column in ['CVE', 'Type', 'Vendor', 'Product', 'Description', 'Date Patched', 'Advisory']:\n",
        "    df[column] = le.fit_transform(df[column])\n"
      ]
    },
    {
      "cell_type": "code",
      "execution_count": 10,
      "metadata": {
        "colab": {
          "base_uri": "https://localhost:8080/"
        },
        "id": "9wsmW_6SuLdy",
        "outputId": "d7a19030-b86d-4441-eadc-dd8429139f55"
      },
      "outputs": [
        {
          "name": "stderr",
          "output_type": "stream",
          "text": [
            "/var/folders/89/xn87wdfs76x_gc0q1x5jl_4h0000gn/T/ipykernel_38503/3230545131.py:6: SettingWithCopyWarning: \n",
            "A value is trying to be set on a copy of a slice from a DataFrame.\n",
            "Try using .loc[row_indexer,col_indexer] = value instead\n",
            "\n",
            "See the caveats in the documentation: https://pandas.pydata.org/pandas-docs/stable/user_guide/indexing.html#returning-a-view-versus-a-copy\n",
            "  X[column] = le.fit_transform(X[column])\n",
            "/var/folders/89/xn87wdfs76x_gc0q1x5jl_4h0000gn/T/ipykernel_38503/3230545131.py:6: SettingWithCopyWarning: \n",
            "A value is trying to be set on a copy of a slice from a DataFrame.\n",
            "Try using .loc[row_indexer,col_indexer] = value instead\n",
            "\n",
            "See the caveats in the documentation: https://pandas.pydata.org/pandas-docs/stable/user_guide/indexing.html#returning-a-view-versus-a-copy\n",
            "  X[column] = le.fit_transform(X[column])\n",
            "/var/folders/89/xn87wdfs76x_gc0q1x5jl_4h0000gn/T/ipykernel_38503/3230545131.py:6: SettingWithCopyWarning: \n",
            "A value is trying to be set on a copy of a slice from a DataFrame.\n",
            "Try using .loc[row_indexer,col_indexer] = value instead\n",
            "\n",
            "See the caveats in the documentation: https://pandas.pydata.org/pandas-docs/stable/user_guide/indexing.html#returning-a-view-versus-a-copy\n",
            "  X[column] = le.fit_transform(X[column])\n"
          ]
        }
      ],
      "source": [
        "X = df[['CVE', 'Vendor', 'Product', 'Description', 'Date Discovered',\n",
        "       'Date Patched', 'Advisory', 'Analysis URL', 'Root Cause Analysis']]\n",
        "y = df['Type']\n",
        "\n",
        "for column in ['Date Discovered','Analysis URL', 'Root Cause Analysis']:\n",
        "  X[column] = le.fit_transform(X[column])\n",
        "\n",
        "scaler = StandardScaler()\n",
        "X = scaler.fit_transform(X)\n"
      ]
    },
    {
      "cell_type": "code",
      "execution_count": 11,
      "metadata": {
        "colab": {
          "base_uri": "https://localhost:8080/"
        },
        "id": "qZZzAV8KvVlj",
        "outputId": "83758d1b-ad6b-43ae-84e2-11677d6ec6aa"
      },
      "outputs": [
        {
          "data": {
            "text/plain": [
              "0      3\n",
              "1      3\n",
              "2      3\n",
              "3      3\n",
              "4      3\n",
              "      ..\n",
              "307    3\n",
              "308    3\n",
              "309    3\n",
              "310    2\n",
              "311    2\n",
              "Name: Type, Length: 312, dtype: int64"
            ]
          },
          "execution_count": 11,
          "metadata": {},
          "output_type": "execute_result"
        }
      ],
      "source": [
        "X_train, X_test, y_train, y_test = train_test_split(X, y, test_size=0.2, random_state=7)\n",
        "df['Type']"
      ]
    },
    {
      "cell_type": "markdown",
      "metadata": {
        "id": "F9YK3cGlx-zF"
      },
      "source": [
        "Building the Model"
      ]
    },
    {
      "cell_type": "code",
      "execution_count": 13,
      "metadata": {
        "id": "iQXMK0Aj_94L"
      },
      "outputs": [
        {
          "name": "stderr",
          "output_type": "stream",
          "text": [
            "/Users/samir/anaconda3/envs/tensorflow/lib/python3.12/site-packages/keras/src/layers/core/dense.py:87: UserWarning: Do not pass an `input_shape`/`input_dim` argument to a layer. When using Sequential models, prefer using an `Input(shape)` object as the first layer in the model instead.\n",
            "  super().__init__(activity_regularizer=activity_regularizer, **kwargs)\n"
          ]
        }
      ],
      "source": [
        "model = keras.Sequential([\n",
        "    keras.layers.Dense(128, activation='relu', input_shape=(X_train.shape[1],)),\n",
        "    keras.layers.Dropout(0.3),\n",
        "    keras.layers.Dense(64, activation='relu'),\n",
        "    keras.layers.Dropout(0.3),\n",
        "    keras.layers.Dense(32, activation='relu'),\n",
        "    keras.layers.Dropout(0.3),\n",
        "    keras.layers.Dense(len(y.unique()), activation='softmax')\n",
        "])"
      ]
    },
    {
      "cell_type": "markdown",
      "metadata": {
        "id": "-nNNiRosZ4um"
      },
      "source": [
        "Compiling the Model."
      ]
    },
    {
      "cell_type": "code",
      "execution_count": 14,
      "metadata": {
        "id": "l9xXF3kkxsHZ"
      },
      "outputs": [],
      "source": [
        "model.compile(optimizer='adam',\n",
        "              loss='sparse_categorical_crossentropy',\n",
        "              metrics=['accuracy'])"
      ]
    },
    {
      "cell_type": "code",
      "execution_count": 15,
      "metadata": {
        "id": "PAXpISNckWQl"
      },
      "outputs": [],
      "source": [
        "early_stopping = EarlyStopping(monitor='val_loss', patience=10, restore_best_weights=True)\n",
        "reduce_lr = ReduceLROnPlateau(monitor='val_loss', factor=0.2, patience=5, min_lr=0.001)\n"
      ]
    },
    {
      "cell_type": "markdown",
      "metadata": {
        "id": "pfTMdHYRyd8f"
      },
      "source": [
        "Training the model"
      ]
    },
    {
      "cell_type": "code",
      "execution_count": 16,
      "metadata": {
        "colab": {
          "base_uri": "https://localhost:8080/"
        },
        "id": "_SeDQm3ZyboQ",
        "outputId": "58d6ed60-7eb6-4de0-db64-241a6c42661f"
      },
      "outputs": [
        {
          "name": "stdout",
          "output_type": "stream",
          "text": [
            "Epoch 1/15\n",
            "\u001b[1m7/7\u001b[0m \u001b[32m━━━━━━━━━━━━━━━━━━━━\u001b[0m\u001b[37m\u001b[0m \u001b[1m1s\u001b[0m 11ms/step - accuracy: 0.0560 - loss: 2.4101 - val_accuracy: 0.6800 - val_loss: 2.0519\n",
            "Epoch 2/15\n",
            "\u001b[1m7/7\u001b[0m \u001b[32m━━━━━━━━━━━━━━━━━━━━\u001b[0m\u001b[37m\u001b[0m \u001b[1m0s\u001b[0m 2ms/step - accuracy: 0.3968 - loss: 2.0358 - val_accuracy: 0.7200 - val_loss: 1.6729\n",
            "Epoch 3/15\n",
            "\u001b[1m7/7\u001b[0m \u001b[32m━━━━━━━━━━━━━━━━━━━━\u001b[0m\u001b[37m\u001b[0m \u001b[1m0s\u001b[0m 11ms/step - accuracy: 0.6263 - loss: 1.7017 - val_accuracy: 0.7200 - val_loss: 1.3251\n",
            "Epoch 4/15\n",
            "\u001b[1m7/7\u001b[0m \u001b[32m━━━━━━━━━━━━━━━━━━━━\u001b[0m\u001b[37m\u001b[0m \u001b[1m0s\u001b[0m 2ms/step - accuracy: 0.6458 - loss: 1.4132 - val_accuracy: 0.7200 - val_loss: 1.0816\n",
            "Epoch 5/15\n",
            "\u001b[1m7/7\u001b[0m \u001b[32m━━━━━━━━━━━━━━━━━━━━\u001b[0m\u001b[37m\u001b[0m \u001b[1m0s\u001b[0m 2ms/step - accuracy: 0.7388 - loss: 1.1663 - val_accuracy: 0.7200 - val_loss: 0.9830\n",
            "Epoch 6/15\n",
            "\u001b[1m7/7\u001b[0m \u001b[32m━━━━━━━━━━━━━━━━━━━━\u001b[0m\u001b[37m\u001b[0m \u001b[1m0s\u001b[0m 2ms/step - accuracy: 0.7038 - loss: 1.1320 - val_accuracy: 0.7200 - val_loss: 0.9684\n",
            "Epoch 7/15\n",
            "\u001b[1m7/7\u001b[0m \u001b[32m━━━━━━━━━━━━━━━━━━━━\u001b[0m\u001b[37m\u001b[0m \u001b[1m0s\u001b[0m 2ms/step - accuracy: 0.7023 - loss: 1.0640 - val_accuracy: 0.7200 - val_loss: 0.9511\n",
            "Epoch 8/15\n",
            "\u001b[1m7/7\u001b[0m \u001b[32m━━━━━━━━━━━━━━━━━━━━\u001b[0m\u001b[37m\u001b[0m \u001b[1m0s\u001b[0m 2ms/step - accuracy: 0.6773 - loss: 0.9854 - val_accuracy: 0.7200 - val_loss: 0.9393\n",
            "Epoch 9/15\n",
            "\u001b[1m7/7\u001b[0m \u001b[32m━━━━━━━━━━━━━━━━━━━━\u001b[0m\u001b[37m\u001b[0m \u001b[1m0s\u001b[0m 2ms/step - accuracy: 0.6994 - loss: 0.9075 - val_accuracy: 0.7200 - val_loss: 0.9408\n",
            "Epoch 10/15\n",
            "\u001b[1m7/7\u001b[0m \u001b[32m━━━━━━━━━━━━━━━━━━━━\u001b[0m\u001b[37m\u001b[0m \u001b[1m0s\u001b[0m 2ms/step - accuracy: 0.7254 - loss: 0.9764 - val_accuracy: 0.7200 - val_loss: 0.9475\n",
            "Epoch 11/15\n",
            "\u001b[1m7/7\u001b[0m \u001b[32m━━━━━━━━━━━━━━━━━━━━\u001b[0m\u001b[37m\u001b[0m \u001b[1m0s\u001b[0m 2ms/step - accuracy: 0.7186 - loss: 0.8899 - val_accuracy: 0.7200 - val_loss: 0.9536\n",
            "Epoch 12/15\n",
            "\u001b[1m7/7\u001b[0m \u001b[32m━━━━━━━━━━━━━━━━━━━━\u001b[0m\u001b[37m\u001b[0m \u001b[1m0s\u001b[0m 2ms/step - accuracy: 0.7331 - loss: 0.8860 - val_accuracy: 0.7200 - val_loss: 0.9450\n",
            "Epoch 13/15\n",
            "\u001b[1m7/7\u001b[0m \u001b[32m━━━━━━━━━━━━━━━━━━━━\u001b[0m\u001b[37m\u001b[0m \u001b[1m0s\u001b[0m 2ms/step - accuracy: 0.6887 - loss: 0.9479 - val_accuracy: 0.7400 - val_loss: 0.9397\n",
            "Epoch 14/15\n",
            "\u001b[1m7/7\u001b[0m \u001b[32m━━━━━━━━━━━━━━━━━━━━\u001b[0m\u001b[37m\u001b[0m \u001b[1m0s\u001b[0m 2ms/step - accuracy: 0.7417 - loss: 0.9120 - val_accuracy: 0.7400 - val_loss: 0.9391\n",
            "Epoch 15/15\n",
            "\u001b[1m7/7\u001b[0m \u001b[32m━━━━━━━━━━━━━━━━━━━━\u001b[0m\u001b[37m\u001b[0m \u001b[1m0s\u001b[0m 2ms/step - accuracy: 0.7169 - loss: 0.9117 - val_accuracy: 0.7400 - val_loss: 0.9363\n",
            "\u001b[1m2/2\u001b[0m \u001b[32m━━━━━━━━━━━━━━━━━━━━\u001b[0m\u001b[37m\u001b[0m \u001b[1m0s\u001b[0m 2ms/step - accuracy: 0.7156 - loss: 0.9925\n",
            "Test Accuracy: 0.6984127163887024\n"
          ]
        }
      ],
      "source": [
        "model.fit(X_train, y_train, epochs=15, batch_size=32, validation_split=0.2)\n",
        "loss, accuracy = model.evaluate(X_test, y_test)\n",
        "print(f'Test Accuracy: {accuracy}')"
      ]
    },
    {
      "cell_type": "markdown",
      "metadata": {
        "id": "prRATojgn6oQ"
      },
      "source": [
        "Making predictions"
      ]
    },
    {
      "cell_type": "code",
      "execution_count": 17,
      "metadata": {
        "colab": {
          "base_uri": "https://localhost:8080/"
        },
        "id": "Qe0X3sXcWZJM",
        "outputId": "46387be3-cb35-489d-aa01-dd322b0fe253"
      },
      "outputs": [
        {
          "name": "stdout",
          "output_type": "stream",
          "text": [
            "\u001b[1m2/2\u001b[0m \u001b[32m━━━━━━━━━━━━━━━━━━━━\u001b[0m\u001b[37m\u001b[0m \u001b[1m0s\u001b[0m 13ms/step\n"
          ]
        },
        {
          "data": {
            "text/plain": [
              "<tf.Tensor: shape=(63,), dtype=int64, numpy=\n",
              "array([3, 3, 3, 3, 3, 3, 3, 3, 3, 3, 3, 2, 3, 3, 3, 3, 3, 3, 3, 3, 3, 3,\n",
              "       2, 3, 3, 3, 3, 3, 3, 3, 3, 3, 3, 3, 3, 2, 3, 3, 3, 3, 3, 3, 3, 3,\n",
              "       3, 3, 3, 3, 3, 3, 3, 3, 3, 2, 3, 3, 3, 3, 3, 3, 3, 3, 3])>"
            ]
          },
          "execution_count": 17,
          "metadata": {},
          "output_type": "execute_result"
        }
      ],
      "source": [
        "predictions = model.predict(X_test)\n",
        "predicted_classes = tf.argmax(predictions, axis=1)\n",
        "\n",
        "predicted_classes"
      ]
    },
    {
      "cell_type": "markdown",
      "metadata": {
        "id": "dMLTw2wMhqSC"
      },
      "source": [
        "Confusion Matrix"
      ]
    },
    {
      "cell_type": "code",
      "execution_count": 18,
      "metadata": {
        "colab": {
          "base_uri": "https://localhost:8080/"
        },
        "id": "lGqSiaIKhorZ",
        "outputId": "6bee27ff-1ee8-475f-a7e5-f7dc60ed22a8"
      },
      "outputs": [
        {
          "name": "stdout",
          "output_type": "stream",
          "text": [
            "Confusion Matrix:\n",
            "[[ 0  0  3  0  0  0]\n",
            " [ 0  3 11  0  0  0]\n",
            " [ 0  1 41  0  0  0]\n",
            " [ 0  0  1  0  0  0]\n",
            " [ 0  0  2  0  0  0]\n",
            " [ 0  0  1  0  0  0]]\n"
          ]
        }
      ],
      "source": [
        "conf_matrix = confusion_matrix(y_test, predicted_classes)\n",
        "print(f'Confusion Matrix:\\n{conf_matrix}')\n"
      ]
    },
    {
      "cell_type": "code",
      "execution_count": 23,
      "metadata": {
        "colab": {
          "base_uri": "https://localhost:8080/"
        },
        "id": "WB17onDuotsK",
        "outputId": "3f324a04-3ea4-4606-ccb2-a982aa502210"
      },
      "outputs": [
        {
          "name": "stdout",
          "output_type": "stream",
          "text": [
            "Accuracy: 0.7301587301587301\n",
            "Classification Report:\n",
            "              precision    recall  f1-score   support\n",
            "\n",
            "           1       0.00      0.00      0.00         3\n",
            "           2       0.67      0.43      0.52        14\n",
            "           3       0.74      0.95      0.83        42\n",
            "           5       0.00      0.00      0.00         1\n",
            "           9       0.00      0.00      0.00         2\n",
            "          10       0.00      0.00      0.00         1\n",
            "\n",
            "    accuracy                           0.73        63\n",
            "   macro avg       0.23      0.23      0.23        63\n",
            "weighted avg       0.64      0.73      0.67        63\n",
            "\n"
          ]
        },
        {
          "name": "stderr",
          "output_type": "stream",
          "text": [
            "/usr/local/lib/python3.10/dist-packages/sklearn/metrics/_classification.py:1344: UndefinedMetricWarning: Precision and F-score are ill-defined and being set to 0.0 in labels with no predicted samples. Use `zero_division` parameter to control this behavior.\n",
            "  _warn_prf(average, modifier, msg_start, len(result))\n",
            "/usr/local/lib/python3.10/dist-packages/sklearn/metrics/_classification.py:1344: UndefinedMetricWarning: Precision and F-score are ill-defined and being set to 0.0 in labels with no predicted samples. Use `zero_division` parameter to control this behavior.\n",
            "  _warn_prf(average, modifier, msg_start, len(result))\n",
            "/usr/local/lib/python3.10/dist-packages/sklearn/metrics/_classification.py:1344: UndefinedMetricWarning: Precision and F-score are ill-defined and being set to 0.0 in labels with no predicted samples. Use `zero_division` parameter to control this behavior.\n",
            "  _warn_prf(average, modifier, msg_start, len(result))\n"
          ]
        }
      ],
      "source": [
        "accuracy = accuracy_score(y_test, predicted_classes)\n",
        "print(f'Accuracy: {accuracy}')\n",
        "\n",
        "# Classification Report\n",
        "class_report = classification_report(y_test, predicted_classes)\n",
        "print(f'Classification Report:\\n{class_report}')"
      ]
    },
    {
      "cell_type": "markdown",
      "metadata": {
        "id": "zAxl2mwIiEfr"
      },
      "source": [
        "Plotting the Confusion Matrix"
      ]
    },
    {
      "cell_type": "code",
      "execution_count": 19,
      "metadata": {
        "colab": {
          "base_uri": "https://localhost:8080/",
          "height": 596
        },
        "id": "39oI9qhbhlUF",
        "outputId": "d9d01d48-f876-464c-c4aa-7e282a081839"
      },
      "outputs": [
        {
          "data": {
            "image/png": "[encoded data removed]",
            "text/plain": [
              "<Figure size 1000x700 with 2 Axes>"
            ]
          },
          "metadata": {},
          "output_type": "display_data"
        }
      ],
      "source": [
        "plt.figure(figsize=(10, 7))\n",
        "sns.heatmap(conf_matrix, annot=True, fmt='d', cmap='Blues')\n",
        "plt.xlabel('Predicted')\n",
        "plt.ylabel('True')\n",
        "plt.title('Confusion Matrix')\n",
        "plt.show()\n"
      ]
    },
    {
      "cell_type": "markdown",
      "metadata": {
        "id": "BBSWAK7To0SU"
      },
      "source": []
    }
  ],
  "metadata": {
    "colab": {
      "provenance": []
    },
    "kernelspec": {
      "display_name": "Python 3",
      "name": "python3"
    },
    "language_info": {
      "codemirror_mode": {
        "name": "ipython",
        "version": 3
      },
      "file_extension": ".py",
      "mimetype": "text/x-python",
      "name": "python",
      "nbconvert_exporter": "python",
      "pygments_lexer": "ipython3",
      "version": "3.12.4"
    }
  },
  "nbformat": 4,
  "nbformat_minor": 0
}
