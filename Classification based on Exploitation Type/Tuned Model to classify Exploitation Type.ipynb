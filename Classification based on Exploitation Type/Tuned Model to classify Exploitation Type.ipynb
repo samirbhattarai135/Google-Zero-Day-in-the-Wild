{
  "cells": [
    {
      "cell_type": "markdown",
      "metadata": {
        "id": "fVjjmowpZvCI"
      },
      "source": [
        "Imports\n"
      ]
    },
    {
      "cell_type": "code",
      "execution_count": 1,
      "metadata": {
        "colab": {
          "base_uri": "https://localhost:8080/"
        },
        "id": "AVgFFsk8ZqNK",
        "outputId": "b0f71fae-064e-4119-f582-76107efd4bb3"
      },
      "outputs": [],
      "source": [
        "import tensorflow as tf\n",
        "from tensorflow import keras\n",
        "from keras.callbacks import EarlyStopping, ReduceLROnPlateau\n",
        "\n",
        "import pandas as pd\n",
        "import numpy as np\n",
        "from sklearn.model_selection import train_test_split\n",
        "from sklearn.preprocessing import LabelEncoder, OneHotEncoder, StandardScaler\n",
        "from sklearn.model_selection import RandomizedSearchCV\n",
        "from scikeras.wrappers import KerasClassifier\n",
        "from sklearn.feature_extraction.text import TfidfVectorizer\n",
        "from keras.layers import Embedding, Dense, Dropout\n",
        "from sklearn.metrics import accuracy_score, confusion_matrix, classification_report\n",
        "import seaborn as sns\n",
        "import matplotlib.pyplot as plt"
      ]
    },
    {
      "cell_type": "code",
      "execution_count": 388,
      "metadata": {
        "colab": {
          "base_uri": "https://localhost:8080/",
          "height": 74
        },
        "id": "RPtxxvFPaCcr",
        "outputId": "d7795cd5-e66b-46c1-fd6d-d8fc45d42c34"
      },
      "outputs": [],
      "source": [
        "df = pd.read_csv('/Users/samir/Documents/GitHub/Google-Zero-Day-in-the-Wild-/0day _In the Wild_ - All.csv')"
      ]
    },
    {
      "cell_type": "code",
      "execution_count": 389,
      "metadata": {
        "colab": {
          "base_uri": "https://localhost:8080/",
          "height": 504
        },
        "id": "oL6qYUfiacGS",
        "outputId": "2a3979d5-c2a5-4c35-94d6-d6cf68e8080b"
      },
      "outputs": [
        {
          "data": {
            "text/html": [
              "<div>\n",
              "<style scoped>\n",
              "    .dataframe tbody tr th:only-of-type {\n",
              "        vertical-align: middle;\n",
              "    }\n",
              "\n",
              "    .dataframe tbody tr th {\n",
              "        vertical-align: top;\n",
              "    }\n",
              "\n",
              "    .dataframe thead th {\n",
              "        text-align: right;\n",
              "    }\n",
              "</style>\n",
              "<table border=\"1\" class=\"dataframe\">\n",
              "  <thead>\n",
              "    <tr style=\"text-align: right;\">\n",
              "      <th></th>\n",
              "      <th>CVE</th>\n",
              "      <th>Vendor</th>\n",
              "      <th>Product</th>\n",
              "      <th>Type</th>\n",
              "      <th>Description</th>\n",
              "      <th>Date Discovered</th>\n",
              "      <th>Date Patched</th>\n",
              "      <th>Advisory</th>\n",
              "      <th>Analysis URL</th>\n",
              "      <th>Root Cause Analysis</th>\n",
              "      <th>Reported By</th>\n",
              "    </tr>\n",
              "  </thead>\n",
              "  <tbody>\n",
              "    <tr>\n",
              "      <th>0</th>\n",
              "      <td>CVE-2024-23296</td>\n",
              "      <td>Apple</td>\n",
              "      <td>iOS</td>\n",
              "      <td>Memory Corruption</td>\n",
              "      <td>Arbitrary kernel r/w in RTKit</td>\n",
              "      <td>NaN</td>\n",
              "      <td>2024-03-06</td>\n",
              "      <td>https://support.apple.com/en-gb/HT214081</td>\n",
              "      <td>NaN</td>\n",
              "      <td>NaN</td>\n",
              "      <td>NaN</td>\n",
              "    </tr>\n",
              "    <tr>\n",
              "      <th>1</th>\n",
              "      <td>CVE-2024-23225</td>\n",
              "      <td>Apple</td>\n",
              "      <td>iOS</td>\n",
              "      <td>Memory Corruption</td>\n",
              "      <td>Out-of-bounds memory access in Kernel</td>\n",
              "      <td>NaN</td>\n",
              "      <td>2024-03-05</td>\n",
              "      <td>https://support.apple.com/en-gb/HT214081</td>\n",
              "      <td>NaN</td>\n",
              "      <td>NaN</td>\n",
              "      <td>NaN</td>\n",
              "    </tr>\n",
              "    <tr>\n",
              "      <th>2</th>\n",
              "      <td>CVE-2024-23222</td>\n",
              "      <td>Apple</td>\n",
              "      <td>WebKit</td>\n",
              "      <td>Memory Corruption</td>\n",
              "      <td>Type confusion</td>\n",
              "      <td>NaN</td>\n",
              "      <td>2024-01-22</td>\n",
              "      <td>https://support.apple.com/en-us/HT214059</td>\n",
              "      <td>NaN</td>\n",
              "      <td>NaN</td>\n",
              "      <td>NaN</td>\n",
              "    </tr>\n",
              "    <tr>\n",
              "      <th>3</th>\n",
              "      <td>CVE-2024-0519</td>\n",
              "      <td>Google</td>\n",
              "      <td>Chrome</td>\n",
              "      <td>Memory Corruption</td>\n",
              "      <td>Out-of-bounds memory access</td>\n",
              "      <td>2024-01-11</td>\n",
              "      <td>2024-01-16</td>\n",
              "      <td>https://chromereleases.googleblog.com/2024/01/...</td>\n",
              "      <td>NaN</td>\n",
              "      <td>NaN</td>\n",
              "      <td>NaN</td>\n",
              "    </tr>\n",
              "    <tr>\n",
              "      <th>4</th>\n",
              "      <td>CVE-2023-7024</td>\n",
              "      <td>Google</td>\n",
              "      <td>Chrome</td>\n",
              "      <td>Memory Corruption</td>\n",
              "      <td>Heap overflow in WebRTC</td>\n",
              "      <td>2023-12-19</td>\n",
              "      <td>2023-12-20</td>\n",
              "      <td>https://chromereleases.googleblog.com/2023/12/...</td>\n",
              "      <td>NaN</td>\n",
              "      <td>NaN</td>\n",
              "      <td>Clément Lecigne and Vlad Stolyarov of Google's...</td>\n",
              "    </tr>\n",
              "  </tbody>\n",
              "</table>\n",
              "</div>"
            ],
            "text/plain": [
              "              CVE  Vendor Product               Type  \\\n",
              "0  CVE-2024-23296   Apple     iOS  Memory Corruption   \n",
              "1  CVE-2024-23225   Apple     iOS  Memory Corruption   \n",
              "2  CVE-2024-23222   Apple  WebKit  Memory Corruption   \n",
              "3   CVE-2024-0519  Google  Chrome  Memory Corruption   \n",
              "4   CVE-2023-7024  Google  Chrome  Memory Corruption   \n",
              "\n",
              "                             Description Date Discovered Date Patched  \\\n",
              "0          Arbitrary kernel r/w in RTKit             NaN   2024-03-06   \n",
              "1  Out-of-bounds memory access in Kernel             NaN   2024-03-05   \n",
              "2                         Type confusion             NaN   2024-01-22   \n",
              "3            Out-of-bounds memory access      2024-01-11   2024-01-16   \n",
              "4                Heap overflow in WebRTC      2023-12-19   2023-12-20   \n",
              "\n",
              "                                            Advisory Analysis URL  \\\n",
              "0           https://support.apple.com/en-gb/HT214081          NaN   \n",
              "1           https://support.apple.com/en-gb/HT214081          NaN   \n",
              "2           https://support.apple.com/en-us/HT214059          NaN   \n",
              "3  https://chromereleases.googleblog.com/2024/01/...          NaN   \n",
              "4  https://chromereleases.googleblog.com/2023/12/...          NaN   \n",
              "\n",
              "  Root Cause Analysis                                        Reported By  \n",
              "0                 NaN                                                NaN  \n",
              "1                 NaN                                                NaN  \n",
              "2                 NaN                                                NaN  \n",
              "3                 NaN                                                NaN  \n",
              "4                 NaN  Clément Lecigne and Vlad Stolyarov of Google's...  "
            ]
          },
          "execution_count": 389,
          "metadata": {},
          "output_type": "execute_result"
        }
      ],
      "source": [
        "df.head()"
      ]
    },
    {
      "cell_type": "markdown",
      "metadata": {},
      "source": [
        "Top 5 most Zero-Day according to Companies."
      ]
    },
    {
      "cell_type": "code",
      "execution_count": 390,
      "metadata": {},
      "outputs": [
        {
          "data": {
            "text/plain": [
              "CVE                      0\n",
              "Vendor                   0\n",
              "Product                  0\n",
              "Type                     4\n",
              "Description              0\n",
              "Date Discovered        188\n",
              "Date Patched             0\n",
              "Advisory                 0\n",
              "Analysis URL           139\n",
              "Root Cause Analysis    245\n",
              "Reported By             92\n",
              "dtype: int64"
            ]
          },
          "execution_count": 390,
          "metadata": {},
          "output_type": "execute_result"
        }
      ],
      "source": [
        "df.isna().sum()"
      ]
    },
    {
      "cell_type": "code",
      "execution_count": 391,
      "metadata": {},
      "outputs": [],
      "source": [
        "df['Date Patched'] = pd.to_datetime(df['Date Patched'])\n"
      ]
    },
    {
      "cell_type": "code",
      "execution_count": 392,
      "metadata": {},
      "outputs": [
        {
          "data": {
            "text/plain": [
              "CVE                      0\n",
              "Vendor                   0\n",
              "Product                  0\n",
              "Type                     4\n",
              "Description              0\n",
              "Date Discovered        188\n",
              "Date Patched             0\n",
              "Advisory                 0\n",
              "Analysis URL           139\n",
              "Root Cause Analysis    245\n",
              "Reported By             92\n",
              "dtype: int64"
            ]
          },
          "execution_count": 392,
          "metadata": {},
          "output_type": "execute_result"
        }
      ],
      "source": [
        "# Handling Missing Data\n",
        "df['Description'].fillna('Unknown')\n",
        "df['Vendor'].fillna('Unknown')\n",
        "df['Product'].fillna('Unknown')\n",
        "df['Type'].fillna('Unknown')\n",
        "df.isna().sum()"
      ]
    },
    {
      "cell_type": "code",
      "execution_count": 393,
      "metadata": {},
      "outputs": [
        {
          "data": {
            "text/html": [
              "<div>\n",
              "<style scoped>\n",
              "    .dataframe tbody tr th:only-of-type {\n",
              "        vertical-align: middle;\n",
              "    }\n",
              "\n",
              "    .dataframe tbody tr th {\n",
              "        vertical-align: top;\n",
              "    }\n",
              "\n",
              "    .dataframe thead th {\n",
              "        text-align: right;\n",
              "    }\n",
              "</style>\n",
              "<table border=\"1\" class=\"dataframe\">\n",
              "  <thead>\n",
              "    <tr style=\"text-align: right;\">\n",
              "      <th></th>\n",
              "      <th>CVE</th>\n",
              "      <th>Vendor</th>\n",
              "      <th>Product</th>\n",
              "      <th>Type</th>\n",
              "      <th>Description</th>\n",
              "      <th>Advisory</th>\n",
              "    </tr>\n",
              "  </thead>\n",
              "  <tbody>\n",
              "    <tr>\n",
              "      <th>0</th>\n",
              "      <td>CVE-2024-23296</td>\n",
              "      <td>Apple</td>\n",
              "      <td>iOS</td>\n",
              "      <td>Memory Corruption</td>\n",
              "      <td>Arbitrary kernel r/w in RTKit</td>\n",
              "      <td>https://support.apple.com/en-gb/HT214081</td>\n",
              "    </tr>\n",
              "    <tr>\n",
              "      <th>1</th>\n",
              "      <td>CVE-2024-23225</td>\n",
              "      <td>Apple</td>\n",
              "      <td>iOS</td>\n",
              "      <td>Memory Corruption</td>\n",
              "      <td>Out-of-bounds memory access in Kernel</td>\n",
              "      <td>https://support.apple.com/en-gb/HT214081</td>\n",
              "    </tr>\n",
              "    <tr>\n",
              "      <th>2</th>\n",
              "      <td>CVE-2024-23222</td>\n",
              "      <td>Apple</td>\n",
              "      <td>WebKit</td>\n",
              "      <td>Memory Corruption</td>\n",
              "      <td>Type confusion</td>\n",
              "      <td>https://support.apple.com/en-us/HT214059</td>\n",
              "    </tr>\n",
              "    <tr>\n",
              "      <th>3</th>\n",
              "      <td>CVE-2024-0519</td>\n",
              "      <td>Google</td>\n",
              "      <td>Chrome</td>\n",
              "      <td>Memory Corruption</td>\n",
              "      <td>Out-of-bounds memory access</td>\n",
              "      <td>https://chromereleases.googleblog.com/2024/01/...</td>\n",
              "    </tr>\n",
              "    <tr>\n",
              "      <th>4</th>\n",
              "      <td>CVE-2023-7024</td>\n",
              "      <td>Google</td>\n",
              "      <td>Chrome</td>\n",
              "      <td>Memory Corruption</td>\n",
              "      <td>Heap overflow in WebRTC</td>\n",
              "      <td>https://chromereleases.googleblog.com/2023/12/...</td>\n",
              "    </tr>\n",
              "  </tbody>\n",
              "</table>\n",
              "</div>"
            ],
            "text/plain": [
              "              CVE  Vendor Product               Type  \\\n",
              "0  CVE-2024-23296   Apple     iOS  Memory Corruption   \n",
              "1  CVE-2024-23225   Apple     iOS  Memory Corruption   \n",
              "2  CVE-2024-23222   Apple  WebKit  Memory Corruption   \n",
              "3   CVE-2024-0519  Google  Chrome  Memory Corruption   \n",
              "4   CVE-2023-7024  Google  Chrome  Memory Corruption   \n",
              "\n",
              "                             Description  \\\n",
              "0          Arbitrary kernel r/w in RTKit   \n",
              "1  Out-of-bounds memory access in Kernel   \n",
              "2                         Type confusion   \n",
              "3            Out-of-bounds memory access   \n",
              "4                Heap overflow in WebRTC   \n",
              "\n",
              "                                            Advisory  \n",
              "0           https://support.apple.com/en-gb/HT214081  \n",
              "1           https://support.apple.com/en-gb/HT214081  \n",
              "2           https://support.apple.com/en-us/HT214059  \n",
              "3  https://chromereleases.googleblog.com/2024/01/...  \n",
              "4  https://chromereleases.googleblog.com/2023/12/...  "
            ]
          },
          "execution_count": 393,
          "metadata": {},
          "output_type": "execute_result"
        }
      ],
      "source": [
        "df_cleaned = df.drop(columns=['Date Discovered', 'Date Patched','Analysis URL', 'Root Cause Analysis', 'Reported By'])\n",
        "df_cleaned.head()"
      ]
    },
    {
      "cell_type": "markdown",
      "metadata": {
        "id": "j8b-h8avZWZU"
      },
      "source": [
        "The types of Zero-Day Exploitation."
      ]
    },
    {
      "cell_type": "code",
      "execution_count": 394,
      "metadata": {
        "colab": {
          "base_uri": "https://localhost:8080/"
        },
        "id": "_Ic7Y0Xnj-ba",
        "outputId": "a58bc432-5439-43e9-a195-19c69d4a1c27"
      },
      "outputs": [
        {
          "data": {
            "text/plain": [
              "Type\n",
              "Memory Corruption    220\n",
              "Logic/Design Flaw     63\n",
              "Information Leak      11\n",
              "Use-after-free         6\n",
              "XSS                    2\n",
              "UXSS                   2\n",
              "Info disclosure        1\n",
              "Unspecified            1\n",
              "Type Confusion         1\n",
              "Race Condition         1\n",
              "Name: count, dtype: int64"
            ]
          },
          "execution_count": 394,
          "metadata": {},
          "output_type": "execute_result"
        }
      ],
      "source": [
        "df_cleaned['Type'].value_counts()\n"
      ]
    },
    {
      "cell_type": "code",
      "execution_count": 395,
      "metadata": {
        "colab": {
          "base_uri": "https://localhost:8080/",
          "height": 474
        },
        "id": "T42KxW9Xavbl",
        "outputId": "ed6c8031-e893-4a2d-c8db-127894c3f2c9"
      },
      "outputs": [
        {
          "data": {
            "image/png": "[encoded data removed]",
            "text/plain": [
              "<Figure size 1200x600 with 1 Axes>"
            ]
          },
          "metadata": {},
          "output_type": "display_data"
        }
      ],
      "source": [
        "values = df_cleaned['Type'].value_counts()\n",
        "plt.figure(figsize=(12, 6))\n",
        "plt.bar(values[:5].index, values[:5])\n",
        "plt.xlabel('Exploitation Type', loc='center')\n",
        "plt.ylabel('Number of Exploits')\n",
        "plt.xticks(rotation=45)\n",
        "plt.title('Top 5 Zero-Day Exploit Types')\n",
        "plt.show()"
      ]
    },
    {
      "cell_type": "markdown",
      "metadata": {
        "id": "IxCHF2dsji5Y"
      },
      "source": [
        "Classification based on the Exploitation type.\n"
      ]
    },
    {
      "cell_type": "code",
      "execution_count": 396,
      "metadata": {
        "id": "ygSVtEZYQpae"
      },
      "outputs": [],
      "source": [
        "df_cleaned = pd.get_dummies(df_cleaned, columns=[ 'Product'], drop_first=True)\n",
        "label_encoder = LabelEncoder()\n",
        "df_cleaned['CVE_encoded'] = label_encoder.fit_transform(df_cleaned['CVE'])\n",
        "df_cleaned['Vendor'] = label_encoder.fit_transform(df_cleaned['Vendor'])\n"
      ]
    },
    {
      "cell_type": "code",
      "execution_count": 397,
      "metadata": {
        "colab": {
          "base_uri": "https://localhost:8080/"
        },
        "id": "9wsmW_6SuLdy",
        "outputId": "d7a19030-b86d-4441-eadc-dd8429139f55"
      },
      "outputs": [],
      "source": [
        "tfidf_vectorizer = TfidfVectorizer(max_features=500)\n",
        "X_tfidf = tfidf_vectorizer.fit_transform(df['Description'])\n",
        "X_tfidf_df = pd.DataFrame(X_tfidf.toarray(), columns=tfidf_vectorizer.get_feature_names_out())\n"
      ]
    },
    {
      "cell_type": "code",
      "execution_count": 398,
      "metadata": {},
      "outputs": [],
      "source": [
        "# Combining processed data\n",
        "df_combined = pd.concat([df_cleaned, X_tfidf_df], axis=1)"
      ]
    },
    {
      "cell_type": "code",
      "execution_count": 399,
      "metadata": {
        "colab": {
          "base_uri": "https://localhost:8080/"
        },
        "id": "qZZzAV8KvVlj",
        "outputId": "83758d1b-ad6b-43ae-84e2-11677d6ec6aa"
      },
      "outputs": [
        {
          "name": "stdout",
          "output_type": "stream",
          "text": [
            "True\n"
          ]
        }
      ],
      "source": [
        "X = df_combined.drop(columns=['CVE','Vendor','Description', 'Type', 'Advisory'])\n",
        "y = label_encoder.fit_transform(df_combined['Type'])\n",
        "\n",
        "# Train-test split\n",
        "X_train, X_test, y_train, y_test = train_test_split(X, y, test_size=0.2, random_state=42)\n",
        "print('CVE_encoded' in X_train.columns)"
      ]
    },
    {
      "cell_type": "code",
      "execution_count": 400,
      "metadata": {},
      "outputs": [],
      "source": [
        "X_test_scaled = np.array(X_test.drop(columns=['CVE_encoded']))\n",
        "X_train_scaled = np.array(X_train.drop(columns=['CVE_encoded']))\n",
        "\n",
        "X_test_cve = np.array(X_test['CVE_encoded'])\n",
        "X_train_cve = np.array(X_train['CVE_encoded'])\n",
        "\n"
      ]
    },
    {
      "cell_type": "code",
      "execution_count": 401,
      "metadata": {},
      "outputs": [],
      "source": [
        "#Feature Scaling\n",
        "scaler = StandardScaler()\n",
        "X_train_scaled = scaler.fit_transform(X_train)\n",
        "X_test_scaled = scaler.transform(X_test)"
      ]
    },
    {
      "cell_type": "markdown",
      "metadata": {
        "id": "F9YK3cGlx-zF"
      },
      "source": [
        "Building the Model"
      ]
    },
    {
      "cell_type": "code",
      "execution_count": 402,
      "metadata": {
        "id": "iQXMK0Aj_94L"
      },
      "outputs": [
        {
          "name": "stderr",
          "output_type": "stream",
          "text": [
            "/Users/samir/anaconda3/envs/tensorflow/lib/python3.12/site-packages/keras/src/layers/core/embedding.py:90: UserWarning: Argument `input_length` is deprecated. Just remove it.\n",
            "  warnings.warn(\n"
          ]
        }
      ],
      "source": [
        "#Model Building with Embedding for 'CVE'\n",
        "input_dim = df_cleaned['CVE_encoded'].nunique()\n",
        "embedding_dim = 50\n",
        "#Neural Network with Embedding for CVE\n",
        "\n",
        "input_cve = keras.Input(shape=(1,))\n",
        "embedding_layer = Embedding(input_dim=input_dim, output_dim=embedding_dim, input_length=1)(input_cve)\n",
        "embedding_flatten = keras.layers.Flatten()(embedding_layer)\n"
      ]
    },
    {
      "cell_type": "code",
      "execution_count": 403,
      "metadata": {},
      "outputs": [],
      "source": [
        "#Input for the remaining features\n",
        "input_features = keras.Input(shape=(X_train_scaled.shape[1],))\n",
        "combined = keras.layers.concatenate([embedding_flatten, input_features])"
      ]
    },
    {
      "cell_type": "code",
      "execution_count": 404,
      "metadata": {},
      "outputs": [],
      "source": [
        "x = Dense(128, activation='relu')(combined)\n",
        "x = Dropout(0.3)(x)\n",
        "x = Dense(64, activation='relu')(x)\n",
        "x = Dropout(0.3)(x)\n",
        "x = Dense(32, activation='relu')(x)\n",
        "x = Dropout(0.3)(x)\n",
        "output = Dense(len(np.unique(y)), activation='softmax')(x)\n"
      ]
    },
    {
      "cell_type": "code",
      "execution_count": 405,
      "metadata": {},
      "outputs": [],
      "source": [
        "model = keras.Model(inputs=[input_cve, input_features], outputs=output)"
      ]
    },
    {
      "cell_type": "markdown",
      "metadata": {
        "id": "-nNNiRosZ4um"
      },
      "source": [
        "Compiling the Model."
      ]
    },
    {
      "cell_type": "code",
      "execution_count": 406,
      "metadata": {
        "id": "l9xXF3kkxsHZ"
      },
      "outputs": [],
      "source": [
        "model.compile(optimizer='adam',\n",
        "              loss='sparse_categorical_crossentropy',\n",
        "              metrics=['accuracy'])"
      ]
    },
    {
      "cell_type": "markdown",
      "metadata": {
        "id": "pfTMdHYRyd8f"
      },
      "source": [
        "Training the model"
      ]
    },
    {
      "cell_type": "code",
      "execution_count": 486,
      "metadata": {
        "id": "PAXpISNckWQl"
      },
      "outputs": [],
      "source": [
        "early_stopping = EarlyStopping(monitor='val_loss', patience=50, restore_best_weights=True)\n",
        "reduce_lr = ReduceLROnPlateau(monitor='val_loss', factor=0.8, patience=0.2, min_lr=0.001)\n"
      ]
    },
    {
      "cell_type": "code",
      "execution_count": 495,
      "metadata": {
        "colab": {
          "base_uri": "https://localhost:8080/"
        },
        "id": "_SeDQm3ZyboQ",
        "outputId": "58d6ed60-7eb6-4de0-db64-241a6c42661f"
      },
      "outputs": [
        {
          "name": "stdout",
          "output_type": "stream",
          "text": [
            "Epoch 1/30\n",
            "\u001b[1m7/7\u001b[0m \u001b[32m━━━━━━━━━━━━━━━━━━━━\u001b[0m\u001b[37m\u001b[0m \u001b[1m0s\u001b[0m 6ms/step - accuracy: 0.9975 - loss: 0.0042 - val_accuracy: 1.0000 - val_loss: 2.7681e-04 - learning_rate: 0.0010\n",
            "Epoch 2/30\n",
            "\u001b[1m7/7\u001b[0m \u001b[32m━━━━━━━━━━━━━━━━━━━━\u001b[0m\u001b[37m\u001b[0m \u001b[1m0s\u001b[0m 3ms/step - accuracy: 1.0000 - loss: 0.0033 - val_accuracy: 1.0000 - val_loss: 3.6285e-04 - learning_rate: 0.0010\n",
            "Epoch 3/30\n",
            "\u001b[1m7/7\u001b[0m \u001b[32m━━━━━━━━━━━━━━━━━━━━\u001b[0m\u001b[37m\u001b[0m \u001b[1m0s\u001b[0m 3ms/step - accuracy: 1.0000 - loss: 2.4818e-04 - val_accuracy: 1.0000 - val_loss: 5.3535e-04 - learning_rate: 0.0010\n",
            "Epoch 4/30\n",
            "\u001b[1m7/7\u001b[0m \u001b[32m━━━━━━━━━━━━━━━━━━━━\u001b[0m\u001b[37m\u001b[0m \u001b[1m0s\u001b[0m 2ms/step - accuracy: 1.0000 - loss: 8.3679e-04 - val_accuracy: 1.0000 - val_loss: 6.5149e-04 - learning_rate: 0.0010\n",
            "Epoch 5/30\n",
            "\u001b[1m7/7\u001b[0m \u001b[32m━━━━━━━━━━━━━━━━━━━━\u001b[0m\u001b[37m\u001b[0m \u001b[1m0s\u001b[0m 3ms/step - accuracy: 1.0000 - loss: 0.0060 - val_accuracy: 1.0000 - val_loss: 7.4767e-04 - learning_rate: 0.0010\n",
            "Epoch 6/30\n",
            "\u001b[1m7/7\u001b[0m \u001b[32m━━━━━━━━━━━━━━━━━━━━\u001b[0m\u001b[37m\u001b[0m \u001b[1m0s\u001b[0m 3ms/step - accuracy: 1.0000 - loss: 9.0512e-04 - val_accuracy: 1.0000 - val_loss: 8.6018e-04 - learning_rate: 0.0010\n",
            "Epoch 7/30\n",
            "\u001b[1m7/7\u001b[0m \u001b[32m━━━━━━━━━━━━━━━━━━━━\u001b[0m\u001b[37m\u001b[0m \u001b[1m0s\u001b[0m 3ms/step - accuracy: 1.0000 - loss: 1.1896e-04 - val_accuracy: 1.0000 - val_loss: 8.8277e-04 - learning_rate: 0.0010\n",
            "Epoch 8/30\n",
            "\u001b[1m7/7\u001b[0m \u001b[32m━━━━━━━━━━━━━━━━━━━━\u001b[0m\u001b[37m\u001b[0m \u001b[1m0s\u001b[0m 6ms/step - accuracy: 1.0000 - loss: 0.0049 - val_accuracy: 1.0000 - val_loss: 8.7876e-04 - learning_rate: 0.0010\n",
            "Epoch 9/30\n",
            "\u001b[1m7/7\u001b[0m \u001b[32m━━━━━━━━━━━━━━━━━━━━\u001b[0m\u001b[37m\u001b[0m \u001b[1m0s\u001b[0m 3ms/step - accuracy: 1.0000 - loss: 0.0012 - val_accuracy: 1.0000 - val_loss: 8.7697e-04 - learning_rate: 0.0010\n",
            "Epoch 10/30\n",
            "\u001b[1m7/7\u001b[0m \u001b[32m━━━━━━━━━━━━━━━━━━━━\u001b[0m\u001b[37m\u001b[0m \u001b[1m0s\u001b[0m 3ms/step - accuracy: 1.0000 - loss: 2.4194e-04 - val_accuracy: 1.0000 - val_loss: 8.7113e-04 - learning_rate: 0.0010\n",
            "Epoch 11/30\n",
            "\u001b[1m7/7\u001b[0m \u001b[32m━━━━━━━━━━━━━━━━━━━━\u001b[0m\u001b[37m\u001b[0m \u001b[1m0s\u001b[0m 3ms/step - accuracy: 1.0000 - loss: 0.0033 - val_accuracy: 1.0000 - val_loss: 8.9429e-04 - learning_rate: 0.0010\n",
            "Epoch 12/30\n",
            "\u001b[1m7/7\u001b[0m \u001b[32m━━━━━━━━━━━━━━━━━━━━\u001b[0m\u001b[37m\u001b[0m \u001b[1m0s\u001b[0m 3ms/step - accuracy: 1.0000 - loss: 0.0017 - val_accuracy: 1.0000 - val_loss: 9.2967e-04 - learning_rate: 0.0010\n",
            "Epoch 13/30\n",
            "\u001b[1m7/7\u001b[0m \u001b[32m━━━━━━━━━━━━━━━━━━━━\u001b[0m\u001b[37m\u001b[0m \u001b[1m0s\u001b[0m 3ms/step - accuracy: 1.0000 - loss: 0.0011 - val_accuracy: 1.0000 - val_loss: 9.4510e-04 - learning_rate: 0.0010\n",
            "Epoch 14/30\n",
            "\u001b[1m7/7\u001b[0m \u001b[32m━━━━━━━━━━━━━━━━━━━━\u001b[0m\u001b[37m\u001b[0m \u001b[1m0s\u001b[0m 3ms/step - accuracy: 1.0000 - loss: 0.0014 - val_accuracy: 1.0000 - val_loss: 9.3669e-04 - learning_rate: 0.0010\n",
            "Epoch 15/30\n",
            "\u001b[1m7/7\u001b[0m \u001b[32m━━━━━━━━━━━━━━━━━━━━\u001b[0m\u001b[37m\u001b[0m \u001b[1m0s\u001b[0m 3ms/step - accuracy: 1.0000 - loss: 0.0012 - val_accuracy: 1.0000 - val_loss: 9.3597e-04 - learning_rate: 0.0010\n",
            "Epoch 16/30\n",
            "\u001b[1m7/7\u001b[0m \u001b[32m━━━━━━━━━━━━━━━━━━━━\u001b[0m\u001b[37m\u001b[0m \u001b[1m0s\u001b[0m 3ms/step - accuracy: 0.9989 - loss: 0.0021 - val_accuracy: 1.0000 - val_loss: 9.4412e-04 - learning_rate: 0.0010\n",
            "Epoch 17/30\n",
            "\u001b[1m7/7\u001b[0m \u001b[32m━━━━━━━━━━━━━━━━━━━━\u001b[0m\u001b[37m\u001b[0m \u001b[1m0s\u001b[0m 3ms/step - accuracy: 1.0000 - loss: 6.1342e-05 - val_accuracy: 1.0000 - val_loss: 9.8140e-04 - learning_rate: 0.0010\n",
            "Epoch 18/30\n",
            "\u001b[1m7/7\u001b[0m \u001b[32m━━━━━━━━━━━━━━━━━━━━\u001b[0m\u001b[37m\u001b[0m \u001b[1m0s\u001b[0m 3ms/step - accuracy: 1.0000 - loss: 0.0014 - val_accuracy: 1.0000 - val_loss: 0.0011 - learning_rate: 0.0010\n",
            "Epoch 19/30\n",
            "\u001b[1m7/7\u001b[0m \u001b[32m━━━━━━━━━━━━━━━━━━━━\u001b[0m\u001b[37m\u001b[0m \u001b[1m0s\u001b[0m 3ms/step - accuracy: 1.0000 - loss: 1.0610e-04 - val_accuracy: 1.0000 - val_loss: 0.0014 - learning_rate: 0.0010\n",
            "Epoch 20/30\n",
            "\u001b[1m7/7\u001b[0m \u001b[32m━━━━━━━━━━━━━━━━━━━━\u001b[0m\u001b[37m\u001b[0m \u001b[1m0s\u001b[0m 3ms/step - accuracy: 0.9932 - loss: 0.0063 - val_accuracy: 1.0000 - val_loss: 0.0014 - learning_rate: 0.0010\n",
            "Epoch 21/30\n",
            "\u001b[1m7/7\u001b[0m \u001b[32m━━━━━━━━━━━━━━━━━━━━\u001b[0m\u001b[37m\u001b[0m \u001b[1m0s\u001b[0m 3ms/step - accuracy: 1.0000 - loss: 1.2496e-04 - val_accuracy: 1.0000 - val_loss: 0.0014 - learning_rate: 0.0010\n",
            "Epoch 22/30\n",
            "\u001b[1m7/7\u001b[0m \u001b[32m━━━━━━━━━━━━━━━━━━━━\u001b[0m\u001b[37m\u001b[0m \u001b[1m0s\u001b[0m 3ms/step - accuracy: 1.0000 - loss: 0.0010 - val_accuracy: 1.0000 - val_loss: 0.0014 - learning_rate: 0.0010\n",
            "Epoch 23/30\n",
            "\u001b[1m7/7\u001b[0m \u001b[32m━━━━━━━━━━━━━━━━━━━━\u001b[0m\u001b[37m\u001b[0m \u001b[1m0s\u001b[0m 3ms/step - accuracy: 0.9952 - loss: 0.0101 - val_accuracy: 1.0000 - val_loss: 0.0017 - learning_rate: 0.0010\n",
            "Epoch 24/30\n",
            "\u001b[1m7/7\u001b[0m \u001b[32m━━━━━━━━━━━━━━━━━━━━\u001b[0m\u001b[37m\u001b[0m \u001b[1m0s\u001b[0m 3ms/step - accuracy: 1.0000 - loss: 9.1522e-04 - val_accuracy: 1.0000 - val_loss: 0.0019 - learning_rate: 0.0010\n",
            "Epoch 25/30\n",
            "\u001b[1m7/7\u001b[0m \u001b[32m━━━━━━━━━━━━━━━━━━━━\u001b[0m\u001b[37m\u001b[0m \u001b[1m0s\u001b[0m 3ms/step - accuracy: 1.0000 - loss: 0.0017 - val_accuracy: 1.0000 - val_loss: 0.0019 - learning_rate: 0.0010\n",
            "Epoch 26/30\n",
            "\u001b[1m7/7\u001b[0m \u001b[32m━━━━━━━━━━━━━━━━━━━━\u001b[0m\u001b[37m\u001b[0m \u001b[1m0s\u001b[0m 3ms/step - accuracy: 1.0000 - loss: 6.3106e-04 - val_accuracy: 1.0000 - val_loss: 0.0019 - learning_rate: 0.0010\n",
            "Epoch 27/30\n",
            "\u001b[1m7/7\u001b[0m \u001b[32m━━━━━━━━━━━━━━━━━━━━\u001b[0m\u001b[37m\u001b[0m \u001b[1m0s\u001b[0m 3ms/step - accuracy: 1.0000 - loss: 1.8856e-05 - val_accuracy: 1.0000 - val_loss: 0.0019 - learning_rate: 0.0010\n",
            "Epoch 28/30\n",
            "\u001b[1m7/7\u001b[0m \u001b[32m━━━━━━━━━━━━━━━━━━━━\u001b[0m\u001b[37m\u001b[0m \u001b[1m0s\u001b[0m 3ms/step - accuracy: 1.0000 - loss: 0.0080 - val_accuracy: 1.0000 - val_loss: 0.0020 - learning_rate: 0.0010\n",
            "Epoch 29/30\n",
            "\u001b[1m7/7\u001b[0m \u001b[32m━━━━━━━━━━━━━━━━━━━━\u001b[0m\u001b[37m\u001b[0m \u001b[1m0s\u001b[0m 3ms/step - accuracy: 1.0000 - loss: 0.0053 - val_accuracy: 1.0000 - val_loss: 0.0019 - learning_rate: 0.0010\n",
            "Epoch 30/30\n",
            "\u001b[1m7/7\u001b[0m \u001b[32m━━━━━━━━━━━━━━━━━━━━\u001b[0m\u001b[37m\u001b[0m \u001b[1m0s\u001b[0m 3ms/step - accuracy: 1.0000 - loss: 6.6721e-04 - val_accuracy: 1.0000 - val_loss: 0.0019 - learning_rate: 0.0010\n",
            "\u001b[1m2/2\u001b[0m \u001b[32m━━━━━━━━━━━━━━━━━━━━\u001b[0m\u001b[37m\u001b[0m \u001b[1m0s\u001b[0m 1ms/step - accuracy: 0.8737 - loss: 1.7066 \n",
            "Test Accuracy: 0.8730158805847168\n"
          ]
        }
      ],
      "source": [
        "trained_model = model.fit([X_train_cve,X_train_scaled], y_train, epochs=30, batch_size=32, validation_split=0.1, callbacks=[early_stopping, reduce_lr])\n",
        "loss, accuracy = model.evaluate([X_test_cve,X_test_scaled], y_test)\n",
        "\n",
        "print(f'Test Accuracy: {accuracy}')"
      ]
    },
    {
      "cell_type": "markdown",
      "metadata": {
        "id": "prRATojgn6oQ"
      },
      "source": [
        "Making predictions"
      ]
    },
    {
      "cell_type": "code",
      "execution_count": 496,
      "metadata": {
        "colab": {
          "base_uri": "https://localhost:8080/"
        },
        "id": "Qe0X3sXcWZJM",
        "outputId": "46387be3-cb35-489d-aa01-dd322b0fe253"
      },
      "outputs": [
        {
          "name": "stdout",
          "output_type": "stream",
          "text": [
            "\u001b[1m2/2\u001b[0m \u001b[32m━━━━━━━━━━━━━━━━━━━━\u001b[0m\u001b[37m\u001b[0m \u001b[1m0s\u001b[0m 2ms/step \n"
          ]
        },
        {
          "data": {
            "text/plain": [
              "<tf.Tensor: shape=(63,), dtype=int64, numpy=\n",
              "array([2, 3, 3, 2, 2, 3, 3, 3, 3, 3, 2, 3, 3, 3, 3, 3, 3, 3, 2, 3, 2, 2,\n",
              "       3, 3, 3, 3, 3, 3, 3, 3, 3, 3, 2, 3, 3, 2, 0, 3, 3, 3, 3, 3, 3, 3,\n",
              "       1, 3, 3, 3, 3, 3, 3, 3, 3, 3, 3, 3, 3, 3, 3, 1, 3, 3, 3])>"
            ]
          },
          "execution_count": 496,
          "metadata": {},
          "output_type": "execute_result"
        }
      ],
      "source": [
        "predictions = model.predict([X_test_cve, X_test_scaled])\n",
        "predicted_classes = tf.argmax(predictions, axis=1)\n",
        "predicted_classes"
      ]
    },
    {
      "cell_type": "code",
      "execution_count": 497,
      "metadata": {},
      "outputs": [
        {
          "name": "stdout",
          "output_type": "stream",
          "text": [
            "Accuracy: 0.873015873015873\n"
          ]
        }
      ],
      "source": [
        "accuracy = accuracy_score(y_test, predicted_classes)\n",
        "print(f'Accuracy: {accuracy}')"
      ]
    },
    {
      "cell_type": "markdown",
      "metadata": {
        "id": "dMLTw2wMhqSC"
      },
      "source": [
        "Confusion Matrix"
      ]
    },
    {
      "cell_type": "code",
      "execution_count": 498,
      "metadata": {
        "colab": {
          "base_uri": "https://localhost:8080/"
        },
        "id": "lGqSiaIKhorZ",
        "outputId": "6bee27ff-1ee8-475f-a7e5-f7dc60ed22a8"
      },
      "outputs": [
        {
          "name": "stdout",
          "output_type": "stream",
          "text": [
            "Confusion Matrix:\n",
            "[[ 0  0  0  0  0  0  0]\n",
            " [ 0  2  0  1  0  0  0]\n",
            " [ 0  0  7  1  0  0  0]\n",
            " [ 1  0  2 46  0  0  0]\n",
            " [ 0  0  0  1  0  0  0]\n",
            " [ 0  0  0  1  0  0  0]\n",
            " [ 0  0  0  1  0  0  0]]\n",
            "\n",
            "Classification Report:\n",
            "              precision    recall  f1-score   support\n",
            "\n",
            "           0       0.00      0.00      0.00         0\n",
            "           1       1.00      0.67      0.80         3\n",
            "           2       0.78      0.88      0.82         8\n",
            "           3       0.90      0.94      0.92        49\n",
            "           4       0.00      0.00      0.00         1\n",
            "           6       0.00      0.00      0.00         1\n",
            "           8       0.00      0.00      0.00         1\n",
            "\n",
            "    accuracy                           0.87        63\n",
            "   macro avg       0.38      0.35      0.36        63\n",
            "weighted avg       0.85      0.87      0.86        63\n",
            "\n"
          ]
        },
        {
          "name": "stderr",
          "output_type": "stream",
          "text": [
            "/Users/samir/anaconda3/envs/tensorflow/lib/python3.12/site-packages/sklearn/metrics/_classification.py:1531: UndefinedMetricWarning: Precision is ill-defined and being set to 0.0 in labels with no predicted samples. Use `zero_division` parameter to control this behavior.\n",
            "  _warn_prf(average, modifier, f\"{metric.capitalize()} is\", len(result))\n",
            "/Users/samir/anaconda3/envs/tensorflow/lib/python3.12/site-packages/sklearn/metrics/_classification.py:1531: UndefinedMetricWarning: Recall is ill-defined and being set to 0.0 in labels with no true samples. Use `zero_division` parameter to control this behavior.\n",
            "  _warn_prf(average, modifier, f\"{metric.capitalize()} is\", len(result))\n",
            "/Users/samir/anaconda3/envs/tensorflow/lib/python3.12/site-packages/sklearn/metrics/_classification.py:1531: UndefinedMetricWarning: Precision is ill-defined and being set to 0.0 in labels with no predicted samples. Use `zero_division` parameter to control this behavior.\n",
            "  _warn_prf(average, modifier, f\"{metric.capitalize()} is\", len(result))\n",
            "/Users/samir/anaconda3/envs/tensorflow/lib/python3.12/site-packages/sklearn/metrics/_classification.py:1531: UndefinedMetricWarning: Recall is ill-defined and being set to 0.0 in labels with no true samples. Use `zero_division` parameter to control this behavior.\n",
            "  _warn_prf(average, modifier, f\"{metric.capitalize()} is\", len(result))\n",
            "/Users/samir/anaconda3/envs/tensorflow/lib/python3.12/site-packages/sklearn/metrics/_classification.py:1531: UndefinedMetricWarning: Precision is ill-defined and being set to 0.0 in labels with no predicted samples. Use `zero_division` parameter to control this behavior.\n",
            "  _warn_prf(average, modifier, f\"{metric.capitalize()} is\", len(result))\n",
            "/Users/samir/anaconda3/envs/tensorflow/lib/python3.12/site-packages/sklearn/metrics/_classification.py:1531: UndefinedMetricWarning: Recall is ill-defined and being set to 0.0 in labels with no true samples. Use `zero_division` parameter to control this behavior.\n",
            "  _warn_prf(average, modifier, f\"{metric.capitalize()} is\", len(result))\n"
          ]
        }
      ],
      "source": [
        "conf_matrix = confusion_matrix(y_test, predicted_classes)\n",
        "print(f'Confusion Matrix:\\n{conf_matrix}\\n')\n",
        "class_report = classification_report(y_test, predicted_classes)\n",
        "print(f'Classification Report:\\n{class_report}')"
      ]
    },
    {
      "cell_type": "markdown",
      "metadata": {
        "id": "zAxl2mwIiEfr"
      },
      "source": [
        "Plotting the Confusion Matrix"
      ]
    },
    {
      "cell_type": "code",
      "execution_count": 499,
      "metadata": {
        "colab": {
          "base_uri": "https://localhost:8080/",
          "height": 596
        },
        "id": "39oI9qhbhlUF",
        "outputId": "d9d01d48-f876-464c-c4aa-7e282a081839"
      },
      "outputs": [
        {
          "data": {
            "image/png": "[encoded data removed]",
            "text/plain": [
              "<Figure size 1000x700 with 2 Axes>"
            ]
          },
          "metadata": {},
          "output_type": "display_data"
        }
      ],
      "source": [
        "plt.figure(figsize=(10, 7))\n",
        "sns.heatmap(conf_matrix, annot=True, fmt='d', cmap='Blues')\n",
        "plt.xlabel('Predicted')\n",
        "plt.ylabel('True')\n",
        "plt.title('Confusion Matrix')\n",
        "plt.show()"
      ]
    }
  ],
  "metadata": {
    "colab": {
      "provenance": []
    },
    "kernelspec": {
      "display_name": "Python 3",
      "name": "python3"
    },
    "language_info": {
      "codemirror_mode": {
        "name": "ipython",
        "version": 3
      },
      "file_extension": ".py",
      "mimetype": "text/x-python",
      "name": "python",
      "nbconvert_exporter": "python",
      "pygments_lexer": "ipython3",
      "version": "3.12.4"
    }
  },
  "nbformat": 4,
  "nbformat_minor": 0
}
