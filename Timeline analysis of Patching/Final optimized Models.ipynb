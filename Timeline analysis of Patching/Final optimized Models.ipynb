{
 "cells": [
  {
   "cell_type": "markdown",
   "metadata": {},
   "source": [
    "This file is part of Google Zero Day In the Wild Security Vulnerabilities Analysis Project. \n",
    "This script aims to analyze the time taken from the discovery of a vulnerability to its patching across different vendor, identify which vendors are quicker or slower in addressing security issues."
   ]
  },
  {
   "cell_type": "code",
   "execution_count": 19,
   "metadata": {},
   "outputs": [],
   "source": [
    "import pandas as pd\n",
    "import  matplotlib.pyplot as plt\n",
    "import numpy as np\n",
    "import seaborn as sns\n",
    "\n",
    "from sklearn.linear_model import LinearRegression, Lasso\n",
    "from sklearn.ensemble import RandomForestRegressor\n",
    "from sklearn.tree import DecisionTreeRegressor\n",
    "from sklearn.metrics import mean_absolute_error, mean_squared_error\n",
    "from sklearn.model_selection import train_test_split, RandomizedSearchCV\n",
    "from sklearn.preprocessing import LabelEncoder, StandardScaler\n",
    "from sklearn.pipeline import Pipeline\n",
    "from sklearn.linear_model import Ridge\n",
    "from sklearn.model_selection import GridSearchCV\n"
   ]
  },
  {
   "cell_type": "code",
   "execution_count": 3,
   "metadata": {},
   "outputs": [
    {
     "data": {
      "text/html": [
       "<div>\n",
       "<style scoped>\n",
       "    .dataframe tbody tr th:only-of-type {\n",
       "        vertical-align: middle;\n",
       "    }\n",
       "\n",
       "    .dataframe tbody tr th {\n",
       "        vertical-align: top;\n",
       "    }\n",
       "\n",
       "    .dataframe thead th {\n",
       "        text-align: right;\n",
       "    }\n",
       "</style>\n",
       "<table border=\"1\" class=\"dataframe\">\n",
       "  <thead>\n",
       "    <tr style=\"text-align: right;\">\n",
       "      <th></th>\n",
       "      <th>CVE</th>\n",
       "      <th>Vendor</th>\n",
       "      <th>Product</th>\n",
       "      <th>Type</th>\n",
       "      <th>Description</th>\n",
       "      <th>Date Discovered</th>\n",
       "      <th>Date Patched</th>\n",
       "      <th>Advisory</th>\n",
       "      <th>Analysis URL</th>\n",
       "      <th>Root Cause Analysis</th>\n",
       "      <th>Reported By</th>\n",
       "    </tr>\n",
       "  </thead>\n",
       "  <tbody>\n",
       "    <tr>\n",
       "      <th>0</th>\n",
       "      <td>CVE-2024-23296</td>\n",
       "      <td>Apple</td>\n",
       "      <td>iOS</td>\n",
       "      <td>Memory Corruption</td>\n",
       "      <td>Arbitrary kernel r/w in RTKit</td>\n",
       "      <td>NaN</td>\n",
       "      <td>2024-03-06</td>\n",
       "      <td>https://support.apple.com/en-gb/HT214081</td>\n",
       "      <td>NaN</td>\n",
       "      <td>NaN</td>\n",
       "      <td>NaN</td>\n",
       "    </tr>\n",
       "    <tr>\n",
       "      <th>1</th>\n",
       "      <td>CVE-2024-23225</td>\n",
       "      <td>Apple</td>\n",
       "      <td>iOS</td>\n",
       "      <td>Memory Corruption</td>\n",
       "      <td>Out-of-bounds memory access in Kernel</td>\n",
       "      <td>NaN</td>\n",
       "      <td>2024-03-05</td>\n",
       "      <td>https://support.apple.com/en-gb/HT214081</td>\n",
       "      <td>NaN</td>\n",
       "      <td>NaN</td>\n",
       "      <td>NaN</td>\n",
       "    </tr>\n",
       "    <tr>\n",
       "      <th>2</th>\n",
       "      <td>CVE-2024-23222</td>\n",
       "      <td>Apple</td>\n",
       "      <td>WebKit</td>\n",
       "      <td>Memory Corruption</td>\n",
       "      <td>Type confusion</td>\n",
       "      <td>NaN</td>\n",
       "      <td>2024-01-22</td>\n",
       "      <td>https://support.apple.com/en-us/HT214059</td>\n",
       "      <td>NaN</td>\n",
       "      <td>NaN</td>\n",
       "      <td>NaN</td>\n",
       "    </tr>\n",
       "    <tr>\n",
       "      <th>3</th>\n",
       "      <td>CVE-2024-0519</td>\n",
       "      <td>Google</td>\n",
       "      <td>Chrome</td>\n",
       "      <td>Memory Corruption</td>\n",
       "      <td>Out-of-bounds memory access</td>\n",
       "      <td>2024-01-11</td>\n",
       "      <td>2024-01-16</td>\n",
       "      <td>https://chromereleases.googleblog.com/2024/01/...</td>\n",
       "      <td>NaN</td>\n",
       "      <td>NaN</td>\n",
       "      <td>NaN</td>\n",
       "    </tr>\n",
       "    <tr>\n",
       "      <th>4</th>\n",
       "      <td>CVE-2023-7024</td>\n",
       "      <td>Google</td>\n",
       "      <td>Chrome</td>\n",
       "      <td>Memory Corruption</td>\n",
       "      <td>Heap overflow in WebRTC</td>\n",
       "      <td>2023-12-19</td>\n",
       "      <td>2023-12-20</td>\n",
       "      <td>https://chromereleases.googleblog.com/2023/12/...</td>\n",
       "      <td>NaN</td>\n",
       "      <td>NaN</td>\n",
       "      <td>Clément Lecigne and Vlad Stolyarov of Google's...</td>\n",
       "    </tr>\n",
       "  </tbody>\n",
       "</table>\n",
       "</div>"
      ],
      "text/plain": [
       "              CVE  Vendor Product               Type  \\\n",
       "0  CVE-2024-23296   Apple     iOS  Memory Corruption   \n",
       "1  CVE-2024-23225   Apple     iOS  Memory Corruption   \n",
       "2  CVE-2024-23222   Apple  WebKit  Memory Corruption   \n",
       "3   CVE-2024-0519  Google  Chrome  Memory Corruption   \n",
       "4   CVE-2023-7024  Google  Chrome  Memory Corruption   \n",
       "\n",
       "                             Description Date Discovered Date Patched  \\\n",
       "0          Arbitrary kernel r/w in RTKit             NaN   2024-03-06   \n",
       "1  Out-of-bounds memory access in Kernel             NaN   2024-03-05   \n",
       "2                         Type confusion             NaN   2024-01-22   \n",
       "3            Out-of-bounds memory access      2024-01-11   2024-01-16   \n",
       "4                Heap overflow in WebRTC      2023-12-19   2023-12-20   \n",
       "\n",
       "                                            Advisory Analysis URL  \\\n",
       "0           https://support.apple.com/en-gb/HT214081          NaN   \n",
       "1           https://support.apple.com/en-gb/HT214081          NaN   \n",
       "2           https://support.apple.com/en-us/HT214059          NaN   \n",
       "3  https://chromereleases.googleblog.com/2024/01/...          NaN   \n",
       "4  https://chromereleases.googleblog.com/2023/12/...          NaN   \n",
       "\n",
       "  Root Cause Analysis                                        Reported By  \n",
       "0                 NaN                                                NaN  \n",
       "1                 NaN                                                NaN  \n",
       "2                 NaN                                                NaN  \n",
       "3                 NaN                                                NaN  \n",
       "4                 NaN  Clément Lecigne and Vlad Stolyarov of Google's...  "
      ]
     },
     "execution_count": 3,
     "metadata": {},
     "output_type": "execute_result"
    }
   ],
   "source": [
    "df = pd.read_csv('/Users/samir/Documents/GitHub/Google-Zero-Day-in-the-Wild-/0day _In the Wild_ - All.csv')\n",
    "df.head()"
   ]
  },
  {
   "cell_type": "code",
   "execution_count": 4,
   "metadata": {},
   "outputs": [
    {
     "data": {
      "text/plain": [
       "CVE                      0\n",
       "Vendor                   0\n",
       "Product                  0\n",
       "Type                     4\n",
       "Description              0\n",
       "Date Discovered        188\n",
       "Date Patched             0\n",
       "Advisory                 0\n",
       "Analysis URL           139\n",
       "Root Cause Analysis    245\n",
       "Reported By             92\n",
       "dtype: int64"
      ]
     },
     "execution_count": 4,
     "metadata": {},
     "output_type": "execute_result"
    }
   ],
   "source": [
    "missing_values = df.isnull().sum()\n",
    "missing_values\n"
   ]
  },
  {
   "cell_type": "code",
   "execution_count": 5,
   "metadata": {},
   "outputs": [
    {
     "name": "stderr",
     "output_type": "stream",
     "text": [
      "/var/folders/89/xn87wdfs76x_gc0q1x5jl_4h0000gn/T/ipykernel_5603/1696299723.py:3: SettingWithCopyWarning: \n",
      "A value is trying to be set on a copy of a slice from a DataFrame.\n",
      "Try using .loc[row_indexer,col_indexer] = value instead\n",
      "\n",
      "See the caveats in the documentation: https://pandas.pydata.org/pandas-docs/stable/user_guide/indexing.html#returning-a-view-versus-a-copy\n",
      "  df_cleaned['Date Discovered'] = pd.to_datetime(df_cleaned['Date Discovered'], errors='coerce')\n",
      "/var/folders/89/xn87wdfs76x_gc0q1x5jl_4h0000gn/T/ipykernel_5603/1696299723.py:4: SettingWithCopyWarning: \n",
      "A value is trying to be set on a copy of a slice from a DataFrame.\n",
      "Try using .loc[row_indexer,col_indexer] = value instead\n",
      "\n",
      "See the caveats in the documentation: https://pandas.pydata.org/pandas-docs/stable/user_guide/indexing.html#returning-a-view-versus-a-copy\n",
      "  df_cleaned['Date Patched'] = pd.to_datetime(df_cleaned['Date Patched'], errors='coerce')\n",
      "/var/folders/89/xn87wdfs76x_gc0q1x5jl_4h0000gn/T/ipykernel_5603/1696299723.py:7: SettingWithCopyWarning: \n",
      "A value is trying to be set on a copy of a slice from a DataFrame.\n",
      "Try using .loc[row_indexer,col_indexer] = value instead\n",
      "\n",
      "See the caveats in the documentation: https://pandas.pydata.org/pandas-docs/stable/user_guide/indexing.html#returning-a-view-versus-a-copy\n",
      "  df_cleaned['Time to Patch (Days)'] = (df_cleaned['Date Patched'] - df_cleaned['Date Discovered']).dt.days\n"
     ]
    },
    {
     "data": {
      "text/html": [
       "<div>\n",
       "<style scoped>\n",
       "    .dataframe tbody tr th:only-of-type {\n",
       "        vertical-align: middle;\n",
       "    }\n",
       "\n",
       "    .dataframe tbody tr th {\n",
       "        vertical-align: top;\n",
       "    }\n",
       "\n",
       "    .dataframe thead th {\n",
       "        text-align: right;\n",
       "    }\n",
       "</style>\n",
       "<table border=\"1\" class=\"dataframe\">\n",
       "  <thead>\n",
       "    <tr style=\"text-align: right;\">\n",
       "      <th></th>\n",
       "      <th>Vendor</th>\n",
       "      <th>Product</th>\n",
       "      <th>Type</th>\n",
       "      <th>Time to Patch (Days)</th>\n",
       "    </tr>\n",
       "  </thead>\n",
       "  <tbody>\n",
       "    <tr>\n",
       "      <th>3</th>\n",
       "      <td>Google</td>\n",
       "      <td>Chrome</td>\n",
       "      <td>Memory Corruption</td>\n",
       "      <td>5.0</td>\n",
       "    </tr>\n",
       "    <tr>\n",
       "      <th>4</th>\n",
       "      <td>Google</td>\n",
       "      <td>Chrome</td>\n",
       "      <td>Memory Corruption</td>\n",
       "      <td>1.0</td>\n",
       "    </tr>\n",
       "    <tr>\n",
       "      <th>10</th>\n",
       "      <td>Google</td>\n",
       "      <td>Chrome</td>\n",
       "      <td>Memory Corruption</td>\n",
       "      <td>4.0</td>\n",
       "    </tr>\n",
       "    <tr>\n",
       "      <th>16</th>\n",
       "      <td>Google</td>\n",
       "      <td>Chrome</td>\n",
       "      <td>Memory Corruption</td>\n",
       "      <td>2.0</td>\n",
       "    </tr>\n",
       "    <tr>\n",
       "      <th>17</th>\n",
       "      <td>Apple</td>\n",
       "      <td>iOS</td>\n",
       "      <td>Memory Corruption</td>\n",
       "      <td>9.0</td>\n",
       "    </tr>\n",
       "    <tr>\n",
       "      <th>...</th>\n",
       "      <td>...</td>\n",
       "      <td>...</td>\n",
       "      <td>...</td>\n",
       "      <td>...</td>\n",
       "    </tr>\n",
       "    <tr>\n",
       "      <th>293</th>\n",
       "      <td>Microsoft</td>\n",
       "      <td>Windows Kernel</td>\n",
       "      <td>Logic/Design Flaw</td>\n",
       "      <td>24.0</td>\n",
       "    </tr>\n",
       "    <tr>\n",
       "      <th>294</th>\n",
       "      <td>Adobe</td>\n",
       "      <td>Flash</td>\n",
       "      <td>Memory Corruption</td>\n",
       "      <td>1.0</td>\n",
       "    </tr>\n",
       "    <tr>\n",
       "      <th>297</th>\n",
       "      <td>Adobe</td>\n",
       "      <td>Flash</td>\n",
       "      <td>Use-after-free</td>\n",
       "      <td>22.0</td>\n",
       "    </tr>\n",
       "    <tr>\n",
       "      <th>298</th>\n",
       "      <td>Adobe</td>\n",
       "      <td>Flash</td>\n",
       "      <td>Use-after-free</td>\n",
       "      <td>7.0</td>\n",
       "    </tr>\n",
       "    <tr>\n",
       "      <th>299</th>\n",
       "      <td>Adobe</td>\n",
       "      <td>Flash</td>\n",
       "      <td>Information Leak</td>\n",
       "      <td>6.0</td>\n",
       "    </tr>\n",
       "  </tbody>\n",
       "</table>\n",
       "<p>123 rows × 4 columns</p>\n",
       "</div>"
      ],
      "text/plain": [
       "        Vendor         Product               Type  Time to Patch (Days)\n",
       "3       Google          Chrome  Memory Corruption                   5.0\n",
       "4       Google          Chrome  Memory Corruption                   1.0\n",
       "10      Google          Chrome  Memory Corruption                   4.0\n",
       "16      Google          Chrome  Memory Corruption                   2.0\n",
       "17       Apple             iOS  Memory Corruption                   9.0\n",
       "..         ...             ...                ...                   ...\n",
       "293  Microsoft  Windows Kernel  Logic/Design Flaw                  24.0\n",
       "294      Adobe           Flash  Memory Corruption                   1.0\n",
       "297      Adobe           Flash     Use-after-free                  22.0\n",
       "298      Adobe           Flash     Use-after-free                   7.0\n",
       "299      Adobe           Flash   Information Leak                   6.0\n",
       "\n",
       "[123 rows x 4 columns]"
      ]
     },
     "execution_count": 5,
     "metadata": {},
     "output_type": "execute_result"
    }
   ],
   "source": [
    "df_cleaned = df.dropna(subset=['Date Discovered'])\n",
    "df_cleaned.isnull().sum()\n",
    "df_cleaned['Date Discovered'] = pd.to_datetime(df_cleaned['Date Discovered'], errors='coerce')\n",
    "df_cleaned['Date Patched'] = pd.to_datetime(df_cleaned['Date Patched'], errors='coerce')\n",
    "missing_type_rows =df_cleaned[df_cleaned['Type'].isnull()]\n",
    "\n",
    "df_cleaned['Time to Patch (Days)'] = (df_cleaned['Date Patched'] - df_cleaned['Date Discovered']).dt.days\n",
    "\n",
    "# Filter out entries where the 'Time to Patch' is negative or null\n",
    "final_data = df_cleaned[(df_cleaned['Time to Patch (Days)'] >= 0) & (df_cleaned['Time to Patch (Days)'].notnull())]\n",
    "\n",
    "# Displaying the updated dataframe\n",
    "final_data[['Vendor', 'Product', 'Type', 'Time to Patch (Days)']]\n"
   ]
  },
  {
   "cell_type": "code",
   "execution_count": 16,
   "metadata": {},
   "outputs": [
    {
     "name": "stderr",
     "output_type": "stream",
     "text": [
      "/var/folders/89/xn87wdfs76x_gc0q1x5jl_4h0000gn/T/ipykernel_5603/2873263948.py:7: SettingWithCopyWarning: \n",
      "A value is trying to be set on a copy of a slice from a DataFrame.\n",
      "Try using .loc[row_indexer,col_indexer] = value instead\n",
      "\n",
      "See the caveats in the documentation: https://pandas.pydata.org/pandas-docs/stable/user_guide/indexing.html#returning-a-view-versus-a-copy\n",
      "  features[column] = label_encoders[column].fit_transform(features[column])\n",
      "/var/folders/89/xn87wdfs76x_gc0q1x5jl_4h0000gn/T/ipykernel_5603/2873263948.py:7: SettingWithCopyWarning: \n",
      "A value is trying to be set on a copy of a slice from a DataFrame.\n",
      "Try using .loc[row_indexer,col_indexer] = value instead\n",
      "\n",
      "See the caveats in the documentation: https://pandas.pydata.org/pandas-docs/stable/user_guide/indexing.html#returning-a-view-versus-a-copy\n",
      "  features[column] = label_encoders[column].fit_transform(features[column])\n",
      "/var/folders/89/xn87wdfs76x_gc0q1x5jl_4h0000gn/T/ipykernel_5603/2873263948.py:7: SettingWithCopyWarning: \n",
      "A value is trying to be set on a copy of a slice from a DataFrame.\n",
      "Try using .loc[row_indexer,col_indexer] = value instead\n",
      "\n",
      "See the caveats in the documentation: https://pandas.pydata.org/pandas-docs/stable/user_guide/indexing.html#returning-a-view-versus-a-copy\n",
      "  features[column] = label_encoders[column].fit_transform(features[column])\n"
     ]
    },
    {
     "data": {
      "text/plain": [
       "(     Vendor  Product  Type\n",
       " 120       7        2     2\n",
       " 293       8       16     1\n",
       " 249       9        5     2\n",
       " 111      11        1     2\n",
       " 218       8       15     2,\n",
       " 120     5.0\n",
       " 293    24.0\n",
       " 249     1.0\n",
       " 111    67.0\n",
       " 218    53.0\n",
       " Name: Time to Patch (Days), dtype: float64)"
      ]
     },
     "execution_count": 16,
     "metadata": {},
     "output_type": "execute_result"
    }
   ],
   "source": [
    "features = final_data[['Vendor', 'Product', 'Type']]\n",
    "target = final_data['Time to Patch (Days)']\n",
    "# Encoding categorical features into numerical values\n",
    "label_encoders = {}\n",
    "for column in features.columns:\n",
    "    label_encoders[column] = LabelEncoder()\n",
    "    features[column] = label_encoders[column].fit_transform(features[column])\n",
    "\n",
    "X_train, X_test, y_train, y_test = train_test_split(features, target, test_size=0.2, random_state=42)\n",
    "X_train.head(), y_train.head()"
   ]
  },
  {
   "cell_type": "markdown",
   "metadata": {},
   "source": [
    "Linear Regression model to predict Patch Times(Days)."
   ]
  },
  {
   "cell_type": "code",
   "execution_count": 40,
   "metadata": {},
   "outputs": [
    {
     "name": "stdout",
     "output_type": "stream",
     "text": [
      "Mean Absolute Error(Linear Regression): 31.960535042332364\n",
      "Root Mean Squared Error(Linear Regression): 35.74237003665914\n"
     ]
    }
   ],
   "source": [
    "model = LinearRegression()\n",
    "model.fit(X_train, y_train)\n",
    "y_pred = model.predict(X_test)\n",
    "mae = mean_absolute_error(y_test, y_pred)\n",
    "rmse = np.sqrt(mean_squared_error(y_test, y_pred))\n",
    "print(\"Mean Absolute Error(Linear Regression):\", mae)\n",
    "print(\"Root Mean Squared Error(Linear Regression):\", rmse)"
   ]
  },
  {
   "cell_type": "markdown",
   "metadata": {},
   "source": [
    "Best Ridge Regression model to predict Patch Times"
   ]
  },
  {
   "cell_type": "code",
   "execution_count": 39,
   "metadata": {},
   "outputs": [
    {
     "name": "stdout",
     "output_type": "stream",
     "text": [
      "Mean Absolute Error (Ridge Regression): 31.035075716988505\n",
      "Root Mean Squared Error (Ridge Regression): 34.79686499413662\n"
     ]
    }
   ],
   "source": [
    "best_model_ridge = Ridge(alpha=10, solver='auto')\n",
    "best_model_ridge.fit(X_train, y_train)\n",
    "y_pred_linear = best_model_ridge.predict(X_test)\n",
    "mae_linear = mean_absolute_error(y_test, y_pred_linear)\n",
    "rmse_linear = np.sqrt(mean_squared_error(y_test, y_pred_linear))\n",
    "print(\"Mean Absolute Error (Ridge Regression):\", mae_linear)\n",
    "print(\"Root Mean Squared Error (Ridge Regression):\", rmse_linear)"
   ]
  },
  {
   "cell_type": "markdown",
   "metadata": {},
   "source": [
    "Best Lasso Regression model to predict Patch Times"
   ]
  },
  {
   "cell_type": "code",
   "execution_count": 38,
   "metadata": {},
   "outputs": [
    {
     "name": "stdout",
     "output_type": "stream",
     "text": [
      "Mean Absolute Error (Lasso Regression): 31.30916012043606\n",
      "Root Mean Squared Error (Lasso Regression): 35.048734347436906\n"
     ]
    }
   ],
   "source": [
    "best_model_lasso = Lasso(alpha=1.0, max_iter=1000)\n",
    "best_model_lasso.fit(X_train, y_train)\n",
    "y_pred_lasso = best_model_lasso.predict(X_test)\n",
    "mae_lasso = mean_absolute_error(y_test, y_pred_lasso)\n",
    "rmse_lasso = np.sqrt(mean_squared_error(y_test, y_pred_lasso))\n",
    "print(\"Mean Absolute Error (Lasso Regression):\", mae_lasso)\n",
    "print(\"Root Mean Squared Error (Lasso Regression):\", rmse_lasso)"
   ]
  },
  {
   "cell_type": "markdown",
   "metadata": {},
   "source": [
    "Random Forrest Regression Model."
   ]
  },
  {
   "cell_type": "code",
   "execution_count": 24,
   "metadata": {},
   "outputs": [
    {
     "name": "stdout",
     "output_type": "stream",
     "text": [
      "Mean Absolute Error (Random Forest): 15.549391431217916\n",
      "Root Mean Squared Error (Random Forest): 26.218604312676767\n"
     ]
    }
   ],
   "source": [
    "best_rf_model = RandomForestRegressor(min_samples_leaf=4, min_samples_split=10, max_depth=None, bootstrap=True)\n",
    "best_rf_model.fit(X_train, y_train)\n",
    "y_pred = best_rf_model.predict(X_test)\n",
    "\n",
    "mae_rf = mean_absolute_error(y_test, y_pred)\n",
    "rmse_rf = np.sqrt(mean_squared_error(y_test, y_pred))\n",
    "\n",
    "print(\"Mean Absolute Error (Random Forest):\", mae_rf)\n",
    "print(\"Root Mean Squared Error (Random Forest):\", rmse_rf)\n"
   ]
  },
  {
   "cell_type": "markdown",
   "metadata": {},
   "source": [
    "Visualizing Features Importance"
   ]
  },
  {
   "cell_type": "code",
   "execution_count": 34,
   "metadata": {},
   "outputs": [
    {
     "data": {
      "image/png": "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",
      "text/plain": [
       "<Figure size 1000x600 with 1 Axes>"
      ]
     },
     "metadata": {},
     "output_type": "display_data"
    }
   ],
   "source": [
    "feature_importances = best_rf_model.feature_importances_\n",
    "# Plotting feature importances\n",
    "indices = np.argsort(feature_importances)[::-1]\n",
    "plt.figure(figsize=(10, 6))\n",
    "plt.title(\"Feature Importance\")\n",
    "plt.bar(range(X_train.shape[1]), feature_importances[indices], align=\"center\")\n",
    "plt.xticks(range(X_train.shape[1]), X_train.columns[indices])\n",
    "plt.tight_layout()\n",
    "plt.show()"
   ]
  },
  {
   "cell_type": "markdown",
   "metadata": {},
   "source": [
    "DecisionTree Model."
   ]
  },
  {
   "cell_type": "code",
   "execution_count": 37,
   "metadata": {},
   "outputs": [
    {
     "name": "stdout",
     "output_type": "stream",
     "text": [
      "Mean Absolute Error (Decision Tree): 15.09009090909091\n",
      "Root Mean Squared Error (Decision Tree): 26.651837339775632\n"
     ]
    }
   ],
   "source": [
    "dt_best_model = DecisionTreeRegressor(max_depth=None, max_features='sqrt', min_samples_leaf=4, min_samples_split=10)\n",
    "dt_best_model.fit(X_train, y_train)\n",
    "y_pred_best_dt = dt_best_model.predict(X_test)\n",
    "mae_best_dt = mean_absolute_error(y_test, y_pred_best_dt)\n",
    "rmse_best_dt = np.sqrt(mean_squared_error(y_test, y_pred_best_dt))\n",
    "print(\"Mean Absolute Error (Decision Tree):\", mae_best_dt)\n",
    "print(\"Root Mean Squared Error (Decision Tree):\", rmse_best_dt)"
   ]
  },
  {
   "cell_type": "code",
   "execution_count": 36,
   "metadata": {},
   "outputs": [
    {
     "data": {
      "image/png": "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