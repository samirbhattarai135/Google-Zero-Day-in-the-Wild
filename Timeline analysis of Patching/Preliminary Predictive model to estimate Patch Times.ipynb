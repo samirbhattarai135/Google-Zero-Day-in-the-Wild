{
 "cells": [
  {
   "cell_type": "markdown",
   "metadata": {},
   "source": [
    "This file is part of Google Zero Day In the Wild Security Vulnerabilities Analysis Project. \n",
    "This script aims to analyze the time taken from the discovery of a vulnerability to its patching across different vendors, identify which vendors are quicker or slower in addressing security issues."
   ]
  },
  {
   "cell_type": "code",
   "execution_count": 16,
   "metadata": {},
   "outputs": [],
   "source": [
    "import pandas as pd\n",
    "import  matplotlib.pyplot as plt\n",
    "import numpy as np\n",
    "import seaborn as sns\n",
    "\n",
    "from sklearn.linear_model import LinearRegression\n",
    "from sklearn.ensemble import RandomForestRegressor\n",
    "from sklearn.tree import DecisionTreeRegressor\n",
    "from sklearn.metrics import mean_absolute_error, mean_squared_error\n",
    "from sklearn.model_selection import train_test_split\n",
    "from sklearn.preprocessing import LabelEncoder\n"
   ]
  },
  {
   "cell_type": "code",
   "execution_count": 17,
   "metadata": {},
   "outputs": [
    {
     "data": {
      "text/html": [
       "<div>\n",
       "<style scoped>\n",
       "    .dataframe tbody tr th:only-of-type {\n",
       "        vertical-align: middle;\n",
       "    }\n",
       "\n",
       "    .dataframe tbody tr th {\n",
       "        vertical-align: top;\n",
       "    }\n",
       "\n",
       "    .dataframe thead th {\n",
       "        text-align: right;\n",
       "    }\n",
       "</style>\n",
       "<table border=\"1\" class=\"dataframe\">\n",
       "  <thead>\n",
       "    <tr style=\"text-align: right;\">\n",
       "      <th></th>\n",
       "      <th>CVE</th>\n",
       "      <th>Vendor</th>\n",
       "      <th>Product</th>\n",
       "      <th>Type</th>\n",
       "      <th>Description</th>\n",
       "      <th>Date Discovered</th>\n",
       "      <th>Date Patched</th>\n",
       "      <th>Advisory</th>\n",
       "      <th>Analysis URL</th>\n",
       "      <th>Root Cause Analysis</th>\n",
       "      <th>Reported By</th>\n",
       "    </tr>\n",
       "  </thead>\n",
       "  <tbody>\n",
       "    <tr>\n",
       "      <th>0</th>\n",
       "      <td>CVE-2024-23296</td>\n",
       "      <td>Apple</td>\n",
       "      <td>iOS</td>\n",
       "      <td>Memory Corruption</td>\n",
       "      <td>Arbitrary kernel r/w in RTKit</td>\n",
       "      <td>NaN</td>\n",
       "      <td>2024-03-06</td>\n",
       "      <td>https://support.apple.com/en-gb/HT214081</td>\n",
       "      <td>NaN</td>\n",
       "      <td>NaN</td>\n",
       "      <td>NaN</td>\n",
       "    </tr>\n",
       "    <tr>\n",
       "      <th>1</th>\n",
       "      <td>CVE-2024-23225</td>\n",
       "      <td>Apple</td>\n",
       "      <td>iOS</td>\n",
       "      <td>Memory Corruption</td>\n",
       "      <td>Out-of-bounds memory access in Kernel</td>\n",
       "      <td>NaN</td>\n",
       "      <td>2024-03-05</td>\n",
       "      <td>https://support.apple.com/en-gb/HT214081</td>\n",
       "      <td>NaN</td>\n",
       "      <td>NaN</td>\n",
       "      <td>NaN</td>\n",
       "    </tr>\n",
       "    <tr>\n",
       "      <th>2</th>\n",
       "      <td>CVE-2024-23222</td>\n",
       "      <td>Apple</td>\n",
       "      <td>WebKit</td>\n",
       "      <td>Memory Corruption</td>\n",
       "      <td>Type confusion</td>\n",
       "      <td>NaN</td>\n",
       "      <td>2024-01-22</td>\n",
       "      <td>https://support.apple.com/en-us/HT214059</td>\n",
       "      <td>NaN</td>\n",
       "      <td>NaN</td>\n",
       "      <td>NaN</td>\n",
       "    </tr>\n",
       "    <tr>\n",
       "      <th>3</th>\n",
       "      <td>CVE-2024-0519</td>\n",
       "      <td>Google</td>\n",
       "      <td>Chrome</td>\n",
       "      <td>Memory Corruption</td>\n",
       "      <td>Out-of-bounds memory access</td>\n",
       "      <td>2024-01-11</td>\n",
       "      <td>2024-01-16</td>\n",
       "      <td>https://chromereleases.googleblog.com/2024/01/...</td>\n",
       "      <td>NaN</td>\n",
       "      <td>NaN</td>\n",
       "      <td>NaN</td>\n",
       "    </tr>\n",
       "    <tr>\n",
       "      <th>4</th>\n",
       "      <td>CVE-2023-7024</td>\n",
       "      <td>Google</td>\n",
       "      <td>Chrome</td>\n",
       "      <td>Memory Corruption</td>\n",
       "      <td>Heap overflow in WebRTC</td>\n",
       "      <td>2023-12-19</td>\n",
       "      <td>2023-12-20</td>\n",
       "      <td>https://chromereleases.googleblog.com/2023/12/...</td>\n",
       "      <td>NaN</td>\n",
       "      <td>NaN</td>\n",
       "      <td>Clément Lecigne and Vlad Stolyarov of Google's...</td>\n",
       "    </tr>\n",
       "  </tbody>\n",
       "</table>\n",
       "</div>"
      ],
      "text/plain": [
       "              CVE  Vendor Product               Type  \\\n",
       "0  CVE-2024-23296   Apple     iOS  Memory Corruption   \n",
       "1  CVE-2024-23225   Apple     iOS  Memory Corruption   \n",
       "2  CVE-2024-23222   Apple  WebKit  Memory Corruption   \n",
       "3   CVE-2024-0519  Google  Chrome  Memory Corruption   \n",
       "4   CVE-2023-7024  Google  Chrome  Memory Corruption   \n",
       "\n",
       "                             Description Date Discovered Date Patched  \\\n",
       "0          Arbitrary kernel r/w in RTKit             NaN   2024-03-06   \n",
       "1  Out-of-bounds memory access in Kernel             NaN   2024-03-05   \n",
       "2                         Type confusion             NaN   2024-01-22   \n",
       "3            Out-of-bounds memory access      2024-01-11   2024-01-16   \n",
       "4                Heap overflow in WebRTC      2023-12-19   2023-12-20   \n",
       "\n",
       "                                            Advisory Analysis URL  \\\n",
       "0           https://support.apple.com/en-gb/HT214081          NaN   \n",
       "1           https://support.apple.com/en-gb/HT214081          NaN   \n",
       "2           https://support.apple.com/en-us/HT214059          NaN   \n",
       "3  https://chromereleases.googleblog.com/2024/01/...          NaN   \n",
       "4  https://chromereleases.googleblog.com/2023/12/...          NaN   \n",
       "\n",
       "  Root Cause Analysis                                        Reported By  \n",
       "0                 NaN                                                NaN  \n",
       "1                 NaN                                                NaN  \n",
       "2                 NaN                                                NaN  \n",
       "3                 NaN                                                NaN  \n",
       "4                 NaN  Clément Lecigne and Vlad Stolyarov of Google's...  "
      ]
     },
     "execution_count": 17,
     "metadata": {},
     "output_type": "execute_result"
    }
   ],
   "source": [
    "df = pd.read_csv('/Users/samir/Documents/GitHub/Google-Zero-Day-in-the-Wild-/0day _In the Wild_ - All.csv')\n",
    "df.head()"
   ]
  },
  {
   "cell_type": "code",
   "execution_count": 18,
   "metadata": {},
   "outputs": [
    {
     "data": {
      "text/plain": [
       "CVE                      0\n",
       "Vendor                   0\n",
       "Product                  0\n",
       "Type                     4\n",
       "Description              0\n",
       "Date Discovered        188\n",
       "Date Patched             0\n",
       "Advisory                 0\n",
       "Analysis URL           139\n",
       "Root Cause Analysis    245\n",
       "Reported By             92\n",
       "dtype: int64"
      ]
     },
     "execution_count": 18,
     "metadata": {},
     "output_type": "execute_result"
    }
   ],
   "source": [
    "missing_values = df.isnull().sum()\n",
    "missing_values\n"
   ]
  },
  {
   "cell_type": "code",
   "execution_count": 19,
   "metadata": {},
   "outputs": [
    {
     "name": "stderr",
     "output_type": "stream",
     "text": [
      "/var/folders/89/xn87wdfs76x_gc0q1x5jl_4h0000gn/T/ipykernel_87303/1696299723.py:3: SettingWithCopyWarning: \n",
      "A value is trying to be set on a copy of a slice from a DataFrame.\n",
      "Try using .loc[row_indexer,col_indexer] = value instead\n",
      "\n",
      "See the caveats in the documentation: https://pandas.pydata.org/pandas-docs/stable/user_guide/indexing.html#returning-a-view-versus-a-copy\n",
      "  df_cleaned['Date Discovered'] = pd.to_datetime(df_cleaned['Date Discovered'], errors='coerce')\n",
      "/var/folders/89/xn87wdfs76x_gc0q1x5jl_4h0000gn/T/ipykernel_87303/1696299723.py:4: SettingWithCopyWarning: \n",
      "A value is trying to be set on a copy of a slice from a DataFrame.\n",
      "Try using .loc[row_indexer,col_indexer] = value instead\n",
      "\n",
      "See the caveats in the documentation: https://pandas.pydata.org/pandas-docs/stable/user_guide/indexing.html#returning-a-view-versus-a-copy\n",
      "  df_cleaned['Date Patched'] = pd.to_datetime(df_cleaned['Date Patched'], errors='coerce')\n",
      "/var/folders/89/xn87wdfs76x_gc0q1x5jl_4h0000gn/T/ipykernel_87303/1696299723.py:7: SettingWithCopyWarning: \n",
      "A value is trying to be set on a copy of a slice from a DataFrame.\n",
      "Try using .loc[row_indexer,col_indexer] = value instead\n",
      "\n",
      "See the caveats in the documentation: https://pandas.pydata.org/pandas-docs/stable/user_guide/indexing.html#returning-a-view-versus-a-copy\n",
      "  df_cleaned['Time to Patch (Days)'] = (df_cleaned['Date Patched'] - df_cleaned['Date Discovered']).dt.days\n"
     ]
    },
    {
     "data": {
      "text/html": [
       "<div>\n",
       "<style scoped>\n",
       "    .dataframe tbody tr th:only-of-type {\n",
       "        vertical-align: middle;\n",
       "    }\n",
       "\n",
       "    .dataframe tbody tr th {\n",
       "        vertical-align: top;\n",
       "    }\n",
       "\n",
       "    .dataframe thead th {\n",
       "        text-align: right;\n",
       "    }\n",
       "</style>\n",
       "<table border=\"1\" class=\"dataframe\">\n",
       "  <thead>\n",
       "    <tr style=\"text-align: right;\">\n",
       "      <th></th>\n",
       "      <th>Vendor</th>\n",
       "      <th>Product</th>\n",
       "      <th>Type</th>\n",
       "      <th>Time to Patch (Days)</th>\n",
       "    </tr>\n",
       "  </thead>\n",
       "  <tbody>\n",
       "    <tr>\n",
       "      <th>3</th>\n",
       "      <td>Google</td>\n",
       "      <td>Chrome</td>\n",
       "      <td>Memory Corruption</td>\n",
       "      <td>5.0</td>\n",
       "    </tr>\n",
       "    <tr>\n",
       "      <th>4</th>\n",
       "      <td>Google</td>\n",
       "      <td>Chrome</td>\n",
       "      <td>Memory Corruption</td>\n",
       "      <td>1.0</td>\n",
       "    </tr>\n",
       "    <tr>\n",
       "      <th>10</th>\n",
       "      <td>Google</td>\n",
       "      <td>Chrome</td>\n",
       "      <td>Memory Corruption</td>\n",
       "      <td>4.0</td>\n",
       "    </tr>\n",
       "    <tr>\n",
       "      <th>16</th>\n",
       "      <td>Google</td>\n",
       "      <td>Chrome</td>\n",
       "      <td>Memory Corruption</td>\n",
       "      <td>2.0</td>\n",
       "    </tr>\n",
       "    <tr>\n",
       "      <th>17</th>\n",
       "      <td>Apple</td>\n",
       "      <td>iOS</td>\n",
       "      <td>Memory Corruption</td>\n",
       "      <td>9.0</td>\n",
       "    </tr>\n",
       "    <tr>\n",
       "      <th>...</th>\n",
       "      <td>...</td>\n",
       "      <td>...</td>\n",
       "      <td>...</td>\n",
       "      <td>...</td>\n",
       "    </tr>\n",
       "    <tr>\n",
       "      <th>293</th>\n",
       "      <td>Microsoft</td>\n",
       "      <td>Windows Kernel</td>\n",
       "      <td>Logic/Design Flaw</td>\n",
       "      <td>24.0</td>\n",
       "    </tr>\n",
       "    <tr>\n",
       "      <th>294</th>\n",
       "      <td>Adobe</td>\n",
       "      <td>Flash</td>\n",
       "      <td>Memory Corruption</td>\n",
       "      <td>1.0</td>\n",
       "    </tr>\n",
       "    <tr>\n",
       "      <th>297</th>\n",
       "      <td>Adobe</td>\n",
       "      <td>Flash</td>\n",
       "      <td>Use-after-free</td>\n",
       "      <td>22.0</td>\n",
       "    </tr>\n",
       "    <tr>\n",
       "      <th>298</th>\n",
       "      <td>Adobe</td>\n",
       "      <td>Flash</td>\n",
       "      <td>Use-after-free</td>\n",
       "      <td>7.0</td>\n",
       "    </tr>\n",
       "    <tr>\n",
       "      <th>299</th>\n",
       "      <td>Adobe</td>\n",
       "      <td>Flash</td>\n",
       "      <td>Information Leak</td>\n",
       "      <td>6.0</td>\n",
       "    </tr>\n",
       "  </tbody>\n",
       "</table>\n",
       "<p>123 rows × 4 columns</p>\n",
       "</div>"
      ],
      "text/plain": [
       "        Vendor         Product               Type  Time to Patch (Days)\n",
       "3       Google          Chrome  Memory Corruption                   5.0\n",
       "4       Google          Chrome  Memory Corruption                   1.0\n",
       "10      Google          Chrome  Memory Corruption                   4.0\n",
       "16      Google          Chrome  Memory Corruption                   2.0\n",
       "17       Apple             iOS  Memory Corruption                   9.0\n",
       "..         ...             ...                ...                   ...\n",
       "293  Microsoft  Windows Kernel  Logic/Design Flaw                  24.0\n",
       "294      Adobe           Flash  Memory Corruption                   1.0\n",
       "297      Adobe           Flash     Use-after-free                  22.0\n",
       "298      Adobe           Flash     Use-after-free                   7.0\n",
       "299      Adobe           Flash   Information Leak                   6.0\n",
       "\n",
       "[123 rows x 4 columns]"
      ]
     },
     "execution_count": 19,
     "metadata": {},
     "output_type": "execute_result"
    }
   ],
   "source": [
    "df_cleaned = df.dropna(subset=['Date Discovered'])\n",
    "df_cleaned.isnull().sum()\n",
    "df_cleaned['Date Discovered'] = pd.to_datetime(df_cleaned['Date Discovered'], errors='coerce')\n",
    "df_cleaned['Date Patched'] = pd.to_datetime(df_cleaned['Date Patched'], errors='coerce')\n",
    "missing_type_rows =df_cleaned[df_cleaned['Type'].isnull()]\n",
    "\n",
    "df_cleaned['Time to Patch (Days)'] = (df_cleaned['Date Patched'] - df_cleaned['Date Discovered']).dt.days\n",
    "\n",
    "# Filter out entries where the 'Time to Patch' is negative or null\n",
    "final_data = df_cleaned[(df_cleaned['Time to Patch (Days)'] >= 0) & (df_cleaned['Time to Patch (Days)'].notnull())]\n",
    "\n",
    "# Displaying the updated dataframe\n",
    "final_data[['Vendor', 'Product', 'Type', 'Time to Patch (Days)']]\n"
   ]
  },
  {
   "cell_type": "markdown",
   "metadata": {},
   "source": [
    "Linear Regression model to predict Patch Times(Days)."
   ]
  },
  {
   "cell_type": "code",
   "execution_count": 20,
   "metadata": {},
   "outputs": [
    {
     "name": "stdout",
     "output_type": "stream",
     "text": [
      "Mean Absolute Error: 31.960535042332364\n",
      "Root Mean Squared Error: 35.74237003665914\n"
     ]
    },
    {
     "name": "stderr",
     "output_type": "stream",
     "text": [
      "/var/folders/89/xn87wdfs76x_gc0q1x5jl_4h0000gn/T/ipykernel_87303/2876078048.py:7: SettingWithCopyWarning: \n",
      "A value is trying to be set on a copy of a slice from a DataFrame.\n",
      "Try using .loc[row_indexer,col_indexer] = value instead\n",
      "\n",
      "See the caveats in the documentation: https://pandas.pydata.org/pandas-docs/stable/user_guide/indexing.html#returning-a-view-versus-a-copy\n",
      "  features[column] = label_encoders[column].fit_transform(features[column])\n",
      "/var/folders/89/xn87wdfs76x_gc0q1x5jl_4h0000gn/T/ipykernel_87303/2876078048.py:7: SettingWithCopyWarning: \n",
      "A value is trying to be set on a copy of a slice from a DataFrame.\n",
      "Try using .loc[row_indexer,col_indexer] = value instead\n",
      "\n",
      "See the caveats in the documentation: https://pandas.pydata.org/pandas-docs/stable/user_guide/indexing.html#returning-a-view-versus-a-copy\n",
      "  features[column] = label_encoders[column].fit_transform(features[column])\n",
      "/var/folders/89/xn87wdfs76x_gc0q1x5jl_4h0000gn/T/ipykernel_87303/2876078048.py:7: SettingWithCopyWarning: \n",
      "A value is trying to be set on a copy of a slice from a DataFrame.\n",
      "Try using .loc[row_indexer,col_indexer] = value instead\n",
      "\n",
      "See the caveats in the documentation: https://pandas.pydata.org/pandas-docs/stable/user_guide/indexing.html#returning-a-view-versus-a-copy\n",
      "  features[column] = label_encoders[column].fit_transform(features[column])\n"
     ]
    }
   ],
   "source": [
    "features = final_data[['Vendor', 'Product', 'Type']]\n",
    "target = final_data['Time to Patch (Days)']\n",
    "# Encoding categorical features into numerical values\n",
    "label_encoders = {}\n",
    "for column in features.columns:\n",
    "    label_encoders[column] = LabelEncoder()\n",
    "    features[column] = label_encoders[column].fit_transform(features[column])\n",
    "\n",
    "X_train, X_test, y_train, y_test = train_test_split(features, target, test_size=0.2, random_state=42)\n",
    "X_train.head(), y_train.head()\n",
    "model = LinearRegression()\n",
    "model.fit(X_train, y_train)\n",
    "y_pred = model.predict(X_test)\n",
    "mae = mean_absolute_error(y_test, y_pred)\n",
    "rmse = np.sqrt(mean_squared_error(y_test, y_pred))\n",
    "print(\"Mean Absolute Error:\", mae)\n",
    "print(\"Root Mean Squared Error:\", rmse)\n"
   ]
  },
  {
   "cell_type": "markdown",
   "metadata": {},
   "source": [
    "Random Forrest Regression Model."
   ]
  },
  {
   "cell_type": "code",
   "execution_count": 21,
   "metadata": {},
   "outputs": [
    {
     "name": "stdout",
     "output_type": "stream",
     "text": [
      "Mean Absolute Error (Random Forest): 18.32480345500774\n",
      "Root Mean Squared Error (Random Forest): 31.497981919110234\n"
     ]
    }
   ],
   "source": [
    "rf_model = RandomForestRegressor(n_estimators=100, random_state=42)\n",
    "rf_model.fit(X_train, y_train)\n",
    "y_pred = rf_model.predict(X_test)\n",
    "\n",
    "\n",
    "mae_rf = mean_absolute_error(y_test, y_pred)\n",
    "rmse_rf = np.sqrt(mean_squared_error(y_test, y_pred))\n",
    "print(\"Mean Absolute Error (Random Forest):\", mae_rf)\n",
    "print(\"Root Mean Squared Error (Random Forest):\", rmse_rf)"
   ]
  },
  {
   "cell_type": "markdown",
   "metadata": {},
   "source": [
    "DecisionTree Model."
   ]
  },
  {
   "cell_type": "code",
   "execution_count": 22,
   "metadata": {},
   "outputs": [
    {
     "name": "stdout",
     "output_type": "stream",
     "text": [
      "Mean Absolute Error (Decision Tree): 24.191999999999997\n",
      "Root Mean Squared Error (Decision Tree): 46.913987490110266\n"
     ]
    }
   ],
   "source": [
    "dt_model = DecisionTreeRegressor(random_state=42)\n",
    "\n",
    "dt_model.fit(X_train, y_train)\n",
    "y_pred_dt = dt_model.predict(X_test)\n",
    "mae_dt = mean_absolute_error(y_test, y_pred_dt)\n",
    "rmse_dt = np.sqrt(mean_squared_error(y_test, y_pred_dt))\n",
    "print(\"Mean Absolute Error (Decision Tree):\", mae_dt)\n",
    "print(\"Root Mean Squared Error (Decision Tree):\", rmse_dt)\n"
   ]
  }
 ],
 "metadata": {
  "kernelspec": {
   "display_name": "tensorflow",
   "language": "python",
   "name": "python3"
  },
  "language_info": {
   "codemirror_mode": {
    "name": "ipython",
    "version": 3
   },
   "file_extension": ".py",
   "mimetype": "text/x-python",
   "name": "python",
   "nbconvert_exporter": "python",
   "pygments_lexer": "ipython3",
   "version": "3.12.4"
  }
 },
 "nbformat": 4,
 "nbformat_minor": 2
}
