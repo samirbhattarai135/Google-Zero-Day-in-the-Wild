{
 "cells": [
  {
   "cell_type": "markdown",
   "metadata": {},
   "source": [
    "This file is part of Google Zero Day In the Wild Security Vulnerabilities Analysis Project. \n",
    "This script aims to analyze the time taken from the discovery of a vulnerability to its patching across different vendors. Identify which vendors are quicker or slower in addressing security issues."
   ]
  },
  {
   "cell_type": "markdown",
   "metadata": {},
   "source": [
    "Required Imports"
   ]
  },
  {
   "cell_type": "code",
   "execution_count": 11,
   "metadata": {},
   "outputs": [],
   "source": [
    "import pandas as pd\n",
    "import  matplotlib.pyplot as plt\n",
    "import numpy as np\n",
    "import seaborn as sns"
   ]
  },
  {
   "cell_type": "markdown",
   "metadata": {},
   "source": [
    "Data Preaparation and Data Cleaning"
   ]
  },
  {
   "cell_type": "code",
   "execution_count": 3,
   "metadata": {},
   "outputs": [
    {
     "data": {
      "text/html": [
       "<div>\n",
       "<style scoped>\n",
       "    .dataframe tbody tr th:only-of-type {\n",
       "        vertical-align: middle;\n",
       "    }\n",
       "\n",
       "    .dataframe tbody tr th {\n",
       "        vertical-align: top;\n",
       "    }\n",
       "\n",
       "    .dataframe thead th {\n",
       "        text-align: right;\n",
       "    }\n",
       "</style>\n",
       "<table border=\"1\" class=\"dataframe\">\n",
       "  <thead>\n",
       "    <tr style=\"text-align: right;\">\n",
       "      <th></th>\n",
       "      <th>CVE</th>\n",
       "      <th>Vendor</th>\n",
       "      <th>Product</th>\n",
       "      <th>Type</th>\n",
       "      <th>Description</th>\n",
       "      <th>Date Discovered</th>\n",
       "      <th>Date Patched</th>\n",
       "      <th>Advisory</th>\n",
       "      <th>Analysis URL</th>\n",
       "      <th>Root Cause Analysis</th>\n",
       "      <th>Reported By</th>\n",
       "    </tr>\n",
       "  </thead>\n",
       "  <tbody>\n",
       "    <tr>\n",
       "      <th>0</th>\n",
       "      <td>CVE-2024-23296</td>\n",
       "      <td>Apple</td>\n",
       "      <td>iOS</td>\n",
       "      <td>Memory Corruption</td>\n",
       "      <td>Arbitrary kernel r/w in RTKit</td>\n",
       "      <td>NaN</td>\n",
       "      <td>2024-03-06</td>\n",
       "      <td>https://support.apple.com/en-gb/HT214081</td>\n",
       "      <td>NaN</td>\n",
       "      <td>NaN</td>\n",
       "      <td>NaN</td>\n",
       "    </tr>\n",
       "    <tr>\n",
       "      <th>1</th>\n",
       "      <td>CVE-2024-23225</td>\n",
       "      <td>Apple</td>\n",
       "      <td>iOS</td>\n",
       "      <td>Memory Corruption</td>\n",
       "      <td>Out-of-bounds memory access in Kernel</td>\n",
       "      <td>NaN</td>\n",
       "      <td>2024-03-05</td>\n",
       "      <td>https://support.apple.com/en-gb/HT214081</td>\n",
       "      <td>NaN</td>\n",
       "      <td>NaN</td>\n",
       "      <td>NaN</td>\n",
       "    </tr>\n",
       "    <tr>\n",
       "      <th>2</th>\n",
       "      <td>CVE-2024-23222</td>\n",
       "      <td>Apple</td>\n",
       "      <td>WebKit</td>\n",
       "      <td>Memory Corruption</td>\n",
       "      <td>Type confusion</td>\n",
       "      <td>NaN</td>\n",
       "      <td>2024-01-22</td>\n",
       "      <td>https://support.apple.com/en-us/HT214059</td>\n",
       "      <td>NaN</td>\n",
       "      <td>NaN</td>\n",
       "      <td>NaN</td>\n",
       "    </tr>\n",
       "    <tr>\n",
       "      <th>3</th>\n",
       "      <td>CVE-2024-0519</td>\n",
       "      <td>Google</td>\n",
       "      <td>Chrome</td>\n",
       "      <td>Memory Corruption</td>\n",
       "      <td>Out-of-bounds memory access</td>\n",
       "      <td>2024-01-11</td>\n",
       "      <td>2024-01-16</td>\n",
       "      <td>https://chromereleases.googleblog.com/2024/01/...</td>\n",
       "      <td>NaN</td>\n",
       "      <td>NaN</td>\n",
       "      <td>NaN</td>\n",
       "    </tr>\n",
       "    <tr>\n",
       "      <th>4</th>\n",
       "      <td>CVE-2023-7024</td>\n",
       "      <td>Google</td>\n",
       "      <td>Chrome</td>\n",
       "      <td>Memory Corruption</td>\n",
       "      <td>Heap overflow in WebRTC</td>\n",
       "      <td>2023-12-19</td>\n",
       "      <td>2023-12-20</td>\n",
       "      <td>https://chromereleases.googleblog.com/2023/12/...</td>\n",
       "      <td>NaN</td>\n",
       "      <td>NaN</td>\n",
       "      <td>Clément Lecigne and Vlad Stolyarov of Google's...</td>\n",
       "    </tr>\n",
       "  </tbody>\n",
       "</table>\n",
       "</div>"
      ],
      "text/plain": [
       "              CVE  Vendor Product               Type  \\\n",
       "0  CVE-2024-23296   Apple     iOS  Memory Corruption   \n",
       "1  CVE-2024-23225   Apple     iOS  Memory Corruption   \n",
       "2  CVE-2024-23222   Apple  WebKit  Memory Corruption   \n",
       "3   CVE-2024-0519  Google  Chrome  Memory Corruption   \n",
       "4   CVE-2023-7024  Google  Chrome  Memory Corruption   \n",
       "\n",
       "                             Description Date Discovered Date Patched  \\\n",
       "0          Arbitrary kernel r/w in RTKit             NaN   2024-03-06   \n",
       "1  Out-of-bounds memory access in Kernel             NaN   2024-03-05   \n",
       "2                         Type confusion             NaN   2024-01-22   \n",
       "3            Out-of-bounds memory access      2024-01-11   2024-01-16   \n",
       "4                Heap overflow in WebRTC      2023-12-19   2023-12-20   \n",
       "\n",
       "                                            Advisory Analysis URL  \\\n",
       "0           https://support.apple.com/en-gb/HT214081          NaN   \n",
       "1           https://support.apple.com/en-gb/HT214081          NaN   \n",
       "2           https://support.apple.com/en-us/HT214059          NaN   \n",
       "3  https://chromereleases.googleblog.com/2024/01/...          NaN   \n",
       "4  https://chromereleases.googleblog.com/2023/12/...          NaN   \n",
       "\n",
       "  Root Cause Analysis                                        Reported By  \n",
       "0                 NaN                                                NaN  \n",
       "1                 NaN                                                NaN  \n",
       "2                 NaN                                                NaN  \n",
       "3                 NaN                                                NaN  \n",
       "4                 NaN  Clément Lecigne and Vlad Stolyarov of Google's...  "
      ]
     },
     "execution_count": 3,
     "metadata": {},
     "output_type": "execute_result"
    }
   ],
   "source": [
    "df = pd.read_csv('/Users/samir/Documents/GitHub/Google-Zero-Day-in-the-Wild-/0day _In the Wild_ - All.csv')\n",
    "df.head()"
   ]
  },
  {
   "cell_type": "markdown",
   "metadata": {},
   "source": [
    "Checking Null Values and droping rows where 'Date Discovered'values are missing."
   ]
  },
  {
   "cell_type": "code",
   "execution_count": 4,
   "metadata": {},
   "outputs": [
    {
     "data": {
      "text/plain": [
       "CVE                      0\n",
       "Vendor                   0\n",
       "Product                  0\n",
       "Type                     4\n",
       "Description              0\n",
       "Date Discovered        188\n",
       "Date Patched             0\n",
       "Advisory                 0\n",
       "Analysis URL           139\n",
       "Root Cause Analysis    245\n",
       "Reported By             92\n",
       "dtype: int64"
      ]
     },
     "execution_count": 4,
     "metadata": {},
     "output_type": "execute_result"
    }
   ],
   "source": [
    "missing_values = df.isnull().sum()\n",
    "missing_values\n"
   ]
  },
  {
   "cell_type": "code",
   "execution_count": 5,
   "metadata": {},
   "outputs": [
    {
     "name": "stderr",
     "output_type": "stream",
     "text": [
      "/var/folders/89/xn87wdfs76x_gc0q1x5jl_4h0000gn/T/ipykernel_22912/1113253299.py:3: SettingWithCopyWarning: \n",
      "A value is trying to be set on a copy of a slice from a DataFrame.\n",
      "Try using .loc[row_indexer,col_indexer] = value instead\n",
      "\n",
      "See the caveats in the documentation: https://pandas.pydata.org/pandas-docs/stable/user_guide/indexing.html#returning-a-view-versus-a-copy\n",
      "  df_cleaned['Date Discovered'] = pd.to_datetime(df_cleaned['Date Discovered'], errors='coerce')\n",
      "/var/folders/89/xn87wdfs76x_gc0q1x5jl_4h0000gn/T/ipykernel_22912/1113253299.py:4: SettingWithCopyWarning: \n",
      "A value is trying to be set on a copy of a slice from a DataFrame.\n",
      "Try using .loc[row_indexer,col_indexer] = value instead\n",
      "\n",
      "See the caveats in the documentation: https://pandas.pydata.org/pandas-docs/stable/user_guide/indexing.html#returning-a-view-versus-a-copy\n",
      "  df_cleaned['Date Patched'] = pd.to_datetime(df_cleaned['Date Patched'], errors='coerce')\n"
     ]
    },
    {
     "data": {
      "text/plain": [
       "3     2024-01-11\n",
       "4     2023-12-19\n",
       "10    2023-11-24\n",
       "16    2023-09-25\n",
       "17    2023-09-12\n",
       "         ...    \n",
       "293   2015-04-18\n",
       "294   2015-04-13\n",
       "297   2015-01-14\n",
       "298   2015-01-20\n",
       "299   2015-01-16\n",
       "Name: Date Discovered, Length: 124, dtype: datetime64[ns]"
      ]
     },
     "execution_count": 5,
     "metadata": {},
     "output_type": "execute_result"
    }
   ],
   "source": [
    "df_cleaned = df.dropna(subset=['Date Discovered'])\n",
    "df_cleaned.isnull().sum()\n",
    "df_cleaned['Date Discovered'] = pd.to_datetime(df_cleaned['Date Discovered'], errors='coerce')\n",
    "df_cleaned['Date Patched'] = pd.to_datetime(df_cleaned['Date Patched'], errors='coerce')\n",
    "df_cleaned['Date Discovered']"
   ]
  },
  {
   "cell_type": "code",
   "execution_count": 7,
   "metadata": {},
   "outputs": [
    {
     "data": {
      "text/html": [
       "<div>\n",
       "<style scoped>\n",
       "    .dataframe tbody tr th:only-of-type {\n",
       "        vertical-align: middle;\n",
       "    }\n",
       "\n",
       "    .dataframe tbody tr th {\n",
       "        vertical-align: top;\n",
       "    }\n",
       "\n",
       "    .dataframe thead th {\n",
       "        text-align: right;\n",
       "    }\n",
       "</style>\n",
       "<table border=\"1\" class=\"dataframe\">\n",
       "  <thead>\n",
       "    <tr style=\"text-align: right;\">\n",
       "      <th></th>\n",
       "      <th>Description</th>\n",
       "      <th>Type</th>\n",
       "    </tr>\n",
       "  </thead>\n",
       "  <tbody>\n",
       "  </tbody>\n",
       "</table>\n",
       "</div>"
      ],
      "text/plain": [
       "Empty DataFrame\n",
       "Columns: [Description, Type]\n",
       "Index: []"
      ]
     },
     "execution_count": 7,
     "metadata": {},
     "output_type": "execute_result"
    }
   ],
   "source": [
    "# Checking if 'Type' can be filled based on the 'Description' column or needs to be dropped\n",
    "missing_type_rows =df_cleaned[df_cleaned['Type'].isnull()]\n",
    "\n",
    "# Displaying the rows with missing 'Type' to determine the best course of action\n",
    "missing_type_rows[['Description', 'Type']]"
   ]
  },
  {
   "cell_type": "markdown",
   "metadata": {},
   "source": [
    "Creating a new Column: Time to Patch(Days); and calculating it."
   ]
  },
  {
   "cell_type": "code",
   "execution_count": 8,
   "metadata": {},
   "outputs": [
    {
     "name": "stderr",
     "output_type": "stream",
     "text": [
      "/var/folders/89/xn87wdfs76x_gc0q1x5jl_4h0000gn/T/ipykernel_22912/3953144736.py:1: SettingWithCopyWarning: \n",
      "A value is trying to be set on a copy of a slice from a DataFrame.\n",
      "Try using .loc[row_indexer,col_indexer] = value instead\n",
      "\n",
      "See the caveats in the documentation: https://pandas.pydata.org/pandas-docs/stable/user_guide/indexing.html#returning-a-view-versus-a-copy\n",
      "  df_cleaned['Time to Patch (Days)'] = (df_cleaned['Date Patched'] - df_cleaned['Date Discovered']).dt.days\n"
     ]
    },
    {
     "data": {
      "text/html": [
       "<div>\n",
       "<style scoped>\n",
       "    .dataframe tbody tr th:only-of-type {\n",
       "        vertical-align: middle;\n",
       "    }\n",
       "\n",
       "    .dataframe tbody tr th {\n",
       "        vertical-align: top;\n",
       "    }\n",
       "\n",
       "    .dataframe thead th {\n",
       "        text-align: right;\n",
       "    }\n",
       "</style>\n",
       "<table border=\"1\" class=\"dataframe\">\n",
       "  <thead>\n",
       "    <tr style=\"text-align: right;\">\n",
       "      <th></th>\n",
       "      <th>Vendor</th>\n",
       "      <th>Product</th>\n",
       "      <th>Time to Patch (Days)</th>\n",
       "    </tr>\n",
       "  </thead>\n",
       "  <tbody>\n",
       "    <tr>\n",
       "      <th>3</th>\n",
       "      <td>Google</td>\n",
       "      <td>Chrome</td>\n",
       "      <td>5.0</td>\n",
       "    </tr>\n",
       "    <tr>\n",
       "      <th>4</th>\n",
       "      <td>Google</td>\n",
       "      <td>Chrome</td>\n",
       "      <td>1.0</td>\n",
       "    </tr>\n",
       "    <tr>\n",
       "      <th>10</th>\n",
       "      <td>Google</td>\n",
       "      <td>Chrome</td>\n",
       "      <td>4.0</td>\n",
       "    </tr>\n",
       "    <tr>\n",
       "      <th>16</th>\n",
       "      <td>Google</td>\n",
       "      <td>Chrome</td>\n",
       "      <td>2.0</td>\n",
       "    </tr>\n",
       "    <tr>\n",
       "      <th>17</th>\n",
       "      <td>Apple</td>\n",
       "      <td>iOS</td>\n",
       "      <td>9.0</td>\n",
       "    </tr>\n",
       "  </tbody>\n",
       "</table>\n",
       "</div>"
      ],
      "text/plain": [
       "    Vendor Product  Time to Patch (Days)\n",
       "3   Google  Chrome                   5.0\n",
       "4   Google  Chrome                   1.0\n",
       "10  Google  Chrome                   4.0\n",
       "16  Google  Chrome                   2.0\n",
       "17   Apple     iOS                   9.0"
      ]
     },
     "execution_count": 8,
     "metadata": {},
     "output_type": "execute_result"
    }
   ],
   "source": [
    "df_cleaned['Time to Patch (Days)'] = (df_cleaned['Date Patched'] - df_cleaned['Date Discovered']).dt.days\n",
    "\n",
    "# Filter out entries where the 'Time to Patch' is negative or null\n",
    "final_data = df_cleaned[(df_cleaned['Time to Patch (Days)'] >= 0) & (df_cleaned['Time to Patch (Days)'].notnull())]\n",
    "\n",
    "# Displaying the updated dataframe\n",
    "final_data[['Vendor', 'Product', 'Time to Patch (Days)']].head()"
   ]
  },
  {
   "cell_type": "markdown",
   "metadata": {},
   "source": [
    "Calculating Average Patch Time per Vendor"
   ]
  },
  {
   "cell_type": "code",
   "execution_count": 20,
   "metadata": {},
   "outputs": [
    {
     "data": {
      "image/png": "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