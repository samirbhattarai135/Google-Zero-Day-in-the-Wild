{
 "cells": [
  {
   "cell_type": "markdown",
   "metadata": {},
   "source": [
    "This file is part of Google Zero Day In the Wild Security Vulnerabilities Analysis Project. \n",
    "This script aims to analyze the time taken from the discovery of a vulnerability to its patching across different vendors. Identify which vendors are quicker or slower in addressing security issues."
   ]
  },
  {
   "cell_type": "markdown",
   "metadata": {},
   "source": [
    "Required Imports"
   ]
  },
  {
   "cell_type": "code",
   "execution_count": 55,
   "metadata": {},
   "outputs": [],
   "source": [
    "import pandas as pd\n",
    "import  matplotlib.pyplot as plt\n",
    "import numpy as np\n"
   ]
  },
  {
   "cell_type": "markdown",
   "metadata": {},
   "source": [
    "Data Preaparation and Data Cleaning"
   ]
  },
  {
   "cell_type": "code",
   "execution_count": 56,
   "metadata": {},
   "outputs": [
    {
     "data": {
      "text/html": [
       "<div>\n",
       "<style scoped>\n",
       "    .dataframe tbody tr th:only-of-type {\n",
       "        vertical-align: middle;\n",
       "    }\n",
       "\n",
       "    .dataframe tbody tr th {\n",
       "        vertical-align: top;\n",
       "    }\n",
       "\n",
       "    .dataframe thead th {\n",
       "        text-align: right;\n",
       "    }\n",
       "</style>\n",
       "<table border=\"1\" class=\"dataframe\">\n",
       "  <thead>\n",
       "    <tr style=\"text-align: right;\">\n",
       "      <th></th>\n",
       "      <th>CVE</th>\n",
       "      <th>Vendor</th>\n",
       "      <th>Product</th>\n",
       "      <th>Type</th>\n",
       "      <th>Description</th>\n",
       "      <th>Date Discovered</th>\n",
       "      <th>Date Patched</th>\n",
       "      <th>Advisory</th>\n",
       "      <th>Analysis URL</th>\n",
       "      <th>Root Cause Analysis</th>\n",
       "      <th>Reported By</th>\n",
       "    </tr>\n",
       "  </thead>\n",
       "  <tbody>\n",
       "    <tr>\n",
       "      <th>0</th>\n",
       "      <td>CVE-2024-23296</td>\n",
       "      <td>Apple</td>\n",
       "      <td>iOS</td>\n",
       "      <td>Memory Corruption</td>\n",
       "      <td>Arbitrary kernel r/w in RTKit</td>\n",
       "      <td>NaN</td>\n",
       "      <td>2024-03-06</td>\n",
       "      <td>https://support.apple.com/en-gb/HT214081</td>\n",
       "      <td>NaN</td>\n",
       "      <td>NaN</td>\n",
       "      <td>NaN</td>\n",
       "    </tr>\n",
       "    <tr>\n",
       "      <th>1</th>\n",
       "      <td>CVE-2024-23225</td>\n",
       "      <td>Apple</td>\n",
       "      <td>iOS</td>\n",
       "      <td>Memory Corruption</td>\n",
       "      <td>Out-of-bounds memory access in Kernel</td>\n",
       "      <td>NaN</td>\n",
       "      <td>2024-03-05</td>\n",
       "      <td>https://support.apple.com/en-gb/HT214081</td>\n",
       "      <td>NaN</td>\n",
       "      <td>NaN</td>\n",
       "      <td>NaN</td>\n",
       "    </tr>\n",
       "    <tr>\n",
       "      <th>2</th>\n",
       "      <td>CVE-2024-23222</td>\n",
       "      <td>Apple</td>\n",
       "      <td>WebKit</td>\n",
       "      <td>Memory Corruption</td>\n",
       "      <td>Type confusion</td>\n",
       "      <td>NaN</td>\n",
       "      <td>2024-01-22</td>\n",
       "      <td>https://support.apple.com/en-us/HT214059</td>\n",
       "      <td>NaN</td>\n",
       "      <td>NaN</td>\n",
       "      <td>NaN</td>\n",
       "    </tr>\n",
       "    <tr>\n",
       "      <th>3</th>\n",
       "      <td>CVE-2024-0519</td>\n",
       "      <td>Google</td>\n",
       "      <td>Chrome</td>\n",
       "      <td>Memory Corruption</td>\n",
       "      <td>Out-of-bounds memory access</td>\n",
       "      <td>2024-01-11</td>\n",
       "      <td>2024-01-16</td>\n",
       "      <td>https://chromereleases.googleblog.com/2024/01/...</td>\n",
       "      <td>NaN</td>\n",
       "      <td>NaN</td>\n",
       "      <td>NaN</td>\n",
       "    </tr>\n",
       "    <tr>\n",
       "      <th>4</th>\n",
       "      <td>CVE-2023-7024</td>\n",
       "      <td>Google</td>\n",
       "      <td>Chrome</td>\n",
       "      <td>Memory Corruption</td>\n",
       "      <td>Heap overflow in WebRTC</td>\n",
       "      <td>2023-12-19</td>\n",
       "      <td>2023-12-20</td>\n",
       "      <td>https://chromereleases.googleblog.com/2023/12/...</td>\n",
       "      <td>NaN</td>\n",
       "      <td>NaN</td>\n",
       "      <td>Clément Lecigne and Vlad Stolyarov of Google's...</td>\n",
       "    </tr>\n",
       "  </tbody>\n",
       "</table>\n",
       "</div>"
      ],
      "text/plain": [
       "              CVE  Vendor Product               Type  \\\n",
       "0  CVE-2024-23296   Apple     iOS  Memory Corruption   \n",
       "1  CVE-2024-23225   Apple     iOS  Memory Corruption   \n",
       "2  CVE-2024-23222   Apple  WebKit  Memory Corruption   \n",
       "3   CVE-2024-0519  Google  Chrome  Memory Corruption   \n",
       "4   CVE-2023-7024  Google  Chrome  Memory Corruption   \n",
       "\n",
       "                             Description Date Discovered Date Patched  \\\n",
       "0          Arbitrary kernel r/w in RTKit             NaN   2024-03-06   \n",
       "1  Out-of-bounds memory access in Kernel             NaN   2024-03-05   \n",
       "2                         Type confusion             NaN   2024-01-22   \n",
       "3            Out-of-bounds memory access      2024-01-11   2024-01-16   \n",
       "4                Heap overflow in WebRTC      2023-12-19   2023-12-20   \n",
       "\n",
       "                                            Advisory Analysis URL  \\\n",
       "0           https://support.apple.com/en-gb/HT214081          NaN   \n",
       "1           https://support.apple.com/en-gb/HT214081          NaN   \n",
       "2           https://support.apple.com/en-us/HT214059          NaN   \n",
       "3  https://chromereleases.googleblog.com/2024/01/...          NaN   \n",
       "4  https://chromereleases.googleblog.com/2023/12/...          NaN   \n",
       "\n",
       "  Root Cause Analysis                                        Reported By  \n",
       "0                 NaN                                                NaN  \n",
       "1                 NaN                                                NaN  \n",
       "2                 NaN                                                NaN  \n",
       "3                 NaN                                                NaN  \n",
       "4                 NaN  Clément Lecigne and Vlad Stolyarov of Google's...  "
      ]
     },
     "execution_count": 56,
     "metadata": {},
     "output_type": "execute_result"
    }
   ],
   "source": [
    "df = pd.read_csv('/Users/samir/Documents/GitHub/Google-Zero-Day-in-the-Wild-/0day _In the Wild_ - All.csv')\n",
    "df.head()"
   ]
  },
  {
   "cell_type": "markdown",
   "metadata": {},
   "source": [
    "Checking Null Values and droping rows where 'Date Discovered'values are missing."
   ]
  },
  {
   "cell_type": "code",
   "execution_count": 57,
   "metadata": {},
   "outputs": [
    {
     "data": {
      "text/plain": [
       "CVE                      0\n",
       "Vendor                   0\n",
       "Product                  0\n",
       "Type                     4\n",
       "Description              0\n",
       "Date Discovered        188\n",
       "Date Patched             0\n",
       "Advisory                 0\n",
       "Analysis URL           139\n",
       "Root Cause Analysis    245\n",
       "Reported By             92\n",
       "dtype: int64"
      ]
     },
     "execution_count": 57,
     "metadata": {},
     "output_type": "execute_result"
    }
   ],
   "source": [
    "missing_values = df.isnull().sum()\n",
    "missing_values\n"
   ]
  },
  {
   "cell_type": "code",
   "execution_count": 60,
   "metadata": {},
   "outputs": [
    {
     "name": "stderr",
     "output_type": "stream",
     "text": [
      "/var/folders/89/xn87wdfs76x_gc0q1x5jl_4h0000gn/T/ipykernel_99766/1113253299.py:3: SettingWithCopyWarning: \n",
      "A value is trying to be set on a copy of a slice from a DataFrame.\n",
      "Try using .loc[row_indexer,col_indexer] = value instead\n",
      "\n",
      "See the caveats in the documentation: https://pandas.pydata.org/pandas-docs/stable/user_guide/indexing.html#returning-a-view-versus-a-copy\n",
      "  df_cleaned['Date Discovered'] = pd.to_datetime(df_cleaned['Date Discovered'], errors='coerce')\n",
      "/var/folders/89/xn87wdfs76x_gc0q1x5jl_4h0000gn/T/ipykernel_99766/1113253299.py:4: SettingWithCopyWarning: \n",
      "A value is trying to be set on a copy of a slice from a DataFrame.\n",
      "Try using .loc[row_indexer,col_indexer] = value instead\n",
      "\n",
      "See the caveats in the documentation: https://pandas.pydata.org/pandas-docs/stable/user_guide/indexing.html#returning-a-view-versus-a-copy\n",
      "  df_cleaned['Date Patched'] = pd.to_datetime(df_cleaned['Date Patched'], errors='coerce')\n"
     ]
    },
    {
     "data": {
      "text/plain": [
       "3     2024-01-11\n",
       "4     2023-12-19\n",
       "10    2023-11-24\n",
       "16    2023-09-25\n",
       "17    2023-09-12\n",
       "         ...    \n",
       "293   2015-04-18\n",
       "294   2015-04-13\n",
       "297   2015-01-14\n",
       "298   2015-01-20\n",
       "299   2015-01-16\n",
       "Name: Date Discovered, Length: 124, dtype: datetime64[ns]"
      ]
     },
     "execution_count": 60,
     "metadata": {},
     "output_type": "execute_result"
    }
   ],
   "source": [
    "df_cleaned = df.dropna(subset=['Date Discovered'])\n",
    "df_cleaned.isnull().sum()\n",
    "df_cleaned['Date Discovered'] = pd.to_datetime(df_cleaned['Date Discovered'], errors='coerce')\n",
    "df_cleaned['Date Patched'] = pd.to_datetime(df_cleaned['Date Patched'], errors='coerce')\n",
    "df_cleaned['Date Discovered']"
   ]
  },
  {
   "cell_type": "code",
   "execution_count": null,
   "metadata": {},
   "outputs": [
    {
     "data": {
      "text/html": [
       "<div>\n",
       "<style scoped>\n",
       "    .dataframe tbody tr th:only-of-type {\n",
       "        vertical-align: middle;\n",
       "    }\n",
       "\n",
       "    .dataframe tbody tr th {\n",
       "        vertical-align: top;\n",
       "    }\n",
       "\n",
       "    .dataframe thead th {\n",
       "        text-align: right;\n",
       "    }\n",
       "</style>\n",
       "<table border=\"1\" class=\"dataframe\">\n",
       "  <thead>\n",
       "    <tr style=\"text-align: right;\">\n",
       "      <th></th>\n",
       "      <th>Description</th>\n",
       "      <th>Type</th>\n",
       "    </tr>\n",
       "  </thead>\n",
       "  <tbody>\n",
       "  </tbody>\n",
       "</table>\n",
       "</div>"
      ],
      "text/plain": [
       "Empty DataFrame\n",
       "Columns: [Description, Type]\n",
       "Index: []"
      ]
     },
     "execution_count": 34,
     "metadata": {},
     "output_type": "execute_result"
    }
   ],
   "source": [
    "# Checking if 'Type' can be filled based on the 'Description' column or needs to be dropped\n",
    "missing_type_rows =df_cleaned[df_cleaned['Type'].isnull()]\n",
    "\n",
    "# Displaying the rows with missing 'Type' to determine the best course of action\n",
    "missing_type_rows[['Description', 'Type']]"
   ]
  },
  {
   "cell_type": "markdown",
   "metadata": {},
   "source": [
    "Creating a new Column: Time to Patch(Days); and calculating it."
   ]
  },
  {
   "cell_type": "code",
   "execution_count": 62,
   "metadata": {},
   "outputs": [
    {
     "name": "stderr",
     "output_type": "stream",
     "text": [
      "/var/folders/89/xn87wdfs76x_gc0q1x5jl_4h0000gn/T/ipykernel_99766/3953144736.py:1: SettingWithCopyWarning: \n",
      "A value is trying to be set on a copy of a slice from a DataFrame.\n",
      "Try using .loc[row_indexer,col_indexer] = value instead\n",
      "\n",
      "See the caveats in the documentation: https://pandas.pydata.org/pandas-docs/stable/user_guide/indexing.html#returning-a-view-versus-a-copy\n",
      "  df_cleaned['Time to Patch (Days)'] = (df_cleaned['Date Patched'] - df_cleaned['Date Discovered']).dt.days\n"
     ]
    },
    {
     "data": {
      "text/html": [
       "<div>\n",
       "<style scoped>\n",
       "    .dataframe tbody tr th:only-of-type {\n",
       "        vertical-align: middle;\n",
       "    }\n",
       "\n",
       "    .dataframe tbody tr th {\n",
       "        vertical-align: top;\n",
       "    }\n",
       "\n",
       "    .dataframe thead th {\n",
       "        text-align: right;\n",
       "    }\n",
       "</style>\n",
       "<table border=\"1\" class=\"dataframe\">\n",
       "  <thead>\n",
       "    <tr style=\"text-align: right;\">\n",
       "      <th></th>\n",
       "      <th>Vendor</th>\n",
       "      <th>Product</th>\n",
       "      <th>Time to Patch (Days)</th>\n",
       "    </tr>\n",
       "  </thead>\n",
       "  <tbody>\n",
       "    <tr>\n",
       "      <th>3</th>\n",
       "      <td>Google</td>\n",
       "      <td>Chrome</td>\n",
       "      <td>5.0</td>\n",
       "    </tr>\n",
       "    <tr>\n",
       "      <th>4</th>\n",
       "      <td>Google</td>\n",
       "      <td>Chrome</td>\n",
       "      <td>1.0</td>\n",
       "    </tr>\n",
       "    <tr>\n",
       "      <th>10</th>\n",
       "      <td>Google</td>\n",
       "      <td>Chrome</td>\n",
       "      <td>4.0</td>\n",
       "    </tr>\n",
       "    <tr>\n",
       "      <th>16</th>\n",
       "      <td>Google</td>\n",
       "      <td>Chrome</td>\n",
       "      <td>2.0</td>\n",
       "    </tr>\n",
       "    <tr>\n",
       "      <th>17</th>\n",
       "      <td>Apple</td>\n",
       "      <td>iOS</td>\n",
       "      <td>9.0</td>\n",
       "    </tr>\n",
       "  </tbody>\n",
       "</table>\n",
       "</div>"
      ],
      "text/plain": [
       "    Vendor Product  Time to Patch (Days)\n",
       "3   Google  Chrome                   5.0\n",
       "4   Google  Chrome                   1.0\n",
       "10  Google  Chrome                   4.0\n",
       "16  Google  Chrome                   2.0\n",
       "17   Apple     iOS                   9.0"
      ]
     },
     "execution_count": 62,
     "metadata": {},
     "output_type": "execute_result"
    }
   ],
   "source": [
    "df_cleaned['Time to Patch (Days)'] = (df_cleaned['Date Patched'] - df_cleaned['Date Discovered']).dt.days\n",
    "\n",
    "# Filter out entries where the 'Time to Patch' is negative or null\n",
    "final_data = df_cleaned[(df_cleaned['Time to Patch (Days)'] >= 0) & (df_cleaned['Time to Patch (Days)'].notnull())]\n",
    "\n",
    "# Displaying the updated dataframe\n",
    "final_data[['Vendor', 'Product', 'Time to Patch (Days)']].head()"
   ]
  },
  {
   "cell_type": "markdown",
   "metadata": {},
   "source": [
    "Calculating Average Patch Time"
   ]
  },
  {
   "cell_type": "code",
   "execution_count": 76,
   "metadata": {},
   "outputs": [
    {
     "ename": "AttributeError",
     "evalue": "module 'matplotlib' has no attribute 'figure'",
     "output_type": "error",
     "traceback": [
      "\u001b[0;31m---------------------------------------------------------------------------\u001b[0m",
      "\u001b[0;31mAttributeError\u001b[0m                            Traceback (most recent call last)",
      "Cell \u001b[0;32mIn[76], line 11\u001b[0m\n\u001b[1;32m      8\u001b[0m patch_time_by_type \u001b[38;5;241m=\u001b[39m final_data\u001b[38;5;241m.\u001b[39mgroupby(\u001b[38;5;124m'\u001b[39m\u001b[38;5;124mType\u001b[39m\u001b[38;5;124m'\u001b[39m)[\u001b[38;5;124m'\u001b[39m\u001b[38;5;124mTime to Patch (Days)\u001b[39m\u001b[38;5;124m'\u001b[39m]\u001b[38;5;241m.\u001b[39mmean()\u001b[38;5;241m.\u001b[39msort_values()\n\u001b[1;32m     10\u001b[0m \u001b[38;5;66;03m# Display the results\u001b[39;00m\n\u001b[0;32m---> 11\u001b[0m \u001b[43mplt\u001b[49m\u001b[38;5;241;43m.\u001b[39;49m\u001b[43mfigure\u001b[49m(figsize\u001b[38;5;241m=\u001b[39m(\u001b[38;5;241m12\u001b[39m, \u001b[38;5;241m8\u001b[39m))\n\u001b[1;32m     13\u001b[0m \u001b[38;5;66;03m#Average Patch Time by Vendor\u001b[39;00m\n\u001b[1;32m     14\u001b[0m plt\u001b[38;5;241m.\u001b[39mbarh(average_patch_time_per_vendor\u001b[38;5;241m.\u001b[39mindex, average_patch_time_per_vendor\u001b[38;5;241m.\u001b[39mvalues, color\u001b[38;5;241m=\u001b[39m\u001b[38;5;124m'\u001b[39m\u001b[38;5;124mskyblue\u001b[39m\u001b[38;5;124m'\u001b[39m)\n",
      "File \u001b[0;32m~/anaconda3/envs/tensorflow/lib/python3.11/site-packages/matplotlib/_api/__init__.py:217\u001b[0m, in \u001b[0;36mcaching_module_getattr.<locals>.__getattr__\u001b[0;34m(name)\u001b[0m\n\u001b[1;32m    215\u001b[0m \u001b[38;5;28;01mif\u001b[39;00m name \u001b[38;5;129;01min\u001b[39;00m props:\n\u001b[1;32m    216\u001b[0m     \u001b[38;5;28;01mreturn\u001b[39;00m props[name]\u001b[38;5;241m.\u001b[39m\u001b[38;5;21m__get__\u001b[39m(instance)\n\u001b[0;32m--> 217\u001b[0m \u001b[38;5;28;01mraise\u001b[39;00m \u001b[38;5;167;01mAttributeError\u001b[39;00m(\n\u001b[1;32m    218\u001b[0m     \u001b[38;5;124mf\u001b[39m\u001b[38;5;124m\"\u001b[39m\u001b[38;5;124mmodule \u001b[39m\u001b[38;5;132;01m{\u001b[39;00m\u001b[38;5;28mcls\u001b[39m\u001b[38;5;241m.\u001b[39m\u001b[38;5;18m__module__\u001b[39m\u001b[38;5;132;01m!r}\u001b[39;00m\u001b[38;5;124m has no attribute \u001b[39m\u001b[38;5;132;01m{\u001b[39;00mname\u001b[38;5;132;01m!r}\u001b[39;00m\u001b[38;5;124m\"\u001b[39m)\n",
      "\u001b[0;31mAttributeError\u001b[0m: module 'matplotlib' has no attribute 'figure'"
     ]
    }
   ],
   "source": [
    "# Calculating the average patch time per vendor\n",
    "average_patch_time_per_vendor = final_data.groupby('Vendor')['Time to Patch (Days)'].mean().sort_values()\n",
    "\n",
    "# Calculating the distribution of patch times for each vendor\n",
    "patch_time_distribution_per_vendor = final_data.groupby('Vendor')['Time to Patch (Days)'].describe()\n",
    "\n",
    "# Exploring if certain types of vulnerabilities consistently take longer to patch\n",
    "patch_time_by_type = final_data.groupby('Type')['Time to Patch (Days)'].mean().sort_values()\n",
    "\n",
    "# Display the results\n",
    "plt.figure(figsize=(12, 8))\n",
    "\n",
    "#Average Patch Time by Vendor\n",
    "plt.barh(average_patch_time_per_vendor.index, average_patch_time_per_vendor.values, color='skyblue')\n",
    "plt.title('Average Patch Time by Vendor')\n",
    "plt.xlabel('Average Time to Patch (Days)')\n",
    "plt.ylabel('Vendor')\n",
    "plt.show()\n",
    "\n",
    "#Distribution of Patch Times per Vendor\n",
    "plt.figure(figsize=(12, 8))\n",
    "\n",
    "for vendor in patch_time_distribution_per_vendor.index:\n",
    "    plt.boxplot(final_data[final_data['Vendor'] == vendor]['Time to Patch (Days)'], positions=[patch_time_distribution_per_vendor.loc[vendor]['mean']], widths=0.6)\n",
    "\n",
    "plt.title('Distribution of Patch Times per Vendor')\n",
    "plt.xlabel('Vendor')\n",
    "plt.ylabel('Time to Patch (Days)')\n",
    "plt.xticks(range(len(patch_time_distribution_per_vendor.index)), patch_time_distribution_per_vendor.index, rotation=90)\n",
    "plt.show()\n",
    "\n",
    "# Create a figure for Average Patch Time by Vulnerability Type\n",
    "plt.figure(figsize=(12, 8))\n",
    "plt.barh(patch_time_by_type.index, patch_time_by_type.values, color='lightcoral')\n",
    "plt.title('Average Patch Time by Vulnerability Type')\n",
    "plt.xlabel('Average Time to Patch (Days)')\n",
    "plt.ylabel('Vulnerability Type')\n",
    "plt.show()\n",
    "\n",
    "plt.tight_layout()\n",
    "plt.show()"
   ]
  },
  {
   "cell_type": "code",
   "execution_count": null,
   "metadata": {},
   "outputs": [],
   "source": []
  }
 ],
 "metadata": {
  "kernelspec": {
   "display_name": "tensorflow",
   "language": "python",
   "name": "python3"
  },
  "language_info": {
   "codemirror_mode": {
    "name": "ipython",
    "version": 3
   },
   "file_extension": ".py",
   "mimetype": "text/x-python",
   "name": "python",
   "nbconvert_exporter": "python",
   "pygments_lexer": "ipython3",
   "version": "3.11.7"
  }
 },
 "nbformat": 4,
 "nbformat_minor": 2
}
